{
 "cells": [
  {
   "cell_type": "markdown",
   "metadata": {},
   "source": [
    "我是对泰坦尼克号数据集进行探索，探索的问题：有哪些因素会让船上的人生还率更高。\n",
    "而我个人觉得：\n",
    "* 1、男性的生还率应该更高，\n",
    "* 2、年轻人（20~30岁）生还率更高\n",
    "* 3、不同的船舱生还率也不同"
   ]
  },
  {
   "cell_type": "markdown",
   "metadata": {},
   "source": [
    "### 1、我们读取数据集里面的数据，并清洗数据"
   ]
  },
  {
   "cell_type": "code",
   "execution_count": 316,
   "metadata": {},
   "outputs": [],
   "source": [
    "#coding: utf-8\n",
    "import pandas as pd\n",
    "from scipy.stats import mode\n",
    "\n",
    "titannic_data = pd.read_csv('./titanic-data.csv')"
   ]
  },
  {
   "cell_type": "code",
   "execution_count": 317,
   "metadata": {},
   "outputs": [
    {
     "name": "stdout",
     "output_type": "stream",
     "text": [
      "<class 'pandas.core.frame.DataFrame'>\n",
      "RangeIndex: 891 entries, 0 to 890\n",
      "Data columns (total 12 columns):\n",
      "PassengerId    891 non-null int64\n",
      "Survived       891 non-null int64\n",
      "Pclass         891 non-null int64\n",
      "Name           891 non-null object\n",
      "Sex            891 non-null object\n",
      "Age            714 non-null float64\n",
      "SibSp          891 non-null int64\n",
      "Parch          891 non-null int64\n",
      "Ticket         891 non-null object\n",
      "Fare           891 non-null float64\n",
      "Cabin          204 non-null object\n",
      "Embarked       889 non-null object\n",
      "dtypes: float64(2), int64(5), object(5)\n",
      "memory usage: 83.6+ KB\n"
     ]
    }
   ],
   "source": [
    "titannic_data.info()"
   ]
  },
  {
   "cell_type": "markdown",
   "metadata": {},
   "source": [
    "从上面可知道，总数据条数为**891**条，而Age只有**714**条不为空，Cabin只有204条不为空。由于**Age是我们探索数据集很重要的数据**，所以需要对它做处理。\n",
    "\n",
    "因为**Age缺失的数据量比较多**，我们准备**使用众数填充**的方法，因为是缺失的值是它们的可能性比较大。"
   ]
  },
  {
   "cell_type": "code",
   "execution_count": 318,
   "metadata": {},
   "outputs": [
    {
     "name": "stdout",
     "output_type": "stream",
     "text": [
      "<class 'pandas.core.frame.DataFrame'>\n",
      "RangeIndex: 891 entries, 0 to 890\n",
      "Data columns (total 12 columns):\n",
      "PassengerId    891 non-null int64\n",
      "Survived       891 non-null int64\n",
      "Pclass         891 non-null int64\n",
      "Name           891 non-null object\n",
      "Sex            891 non-null object\n",
      "Age            891 non-null float64\n",
      "SibSp          891 non-null int64\n",
      "Parch          891 non-null int64\n",
      "Ticket         891 non-null object\n",
      "Fare           891 non-null float64\n",
      "Cabin          204 non-null object\n",
      "Embarked       889 non-null object\n",
      "dtypes: float64(2), int64(5), object(5)\n",
      "memory usage: 83.6+ KB\n"
     ]
    }
   ],
   "source": [
    "# 计算出众数\n",
    "mode_value = mode(titannic_data['Age']).mode[0]\n",
    "\n",
    "# 年龄填充众数\n",
    "titannic_data['Age'].fillna(mode_value, inplace=True)\n",
    "titannic_data.info()"
   ]
  },
  {
   "cell_type": "markdown",
   "metadata": {},
   "source": [
    "从上可知道，经过我们的清洗，**Age的数据全部都不为空**了。"
   ]
  },
  {
   "cell_type": "markdown",
   "metadata": {},
   "source": [
    "### 2、按照性别分组，计算下男性和女性生还率人数"
   ]
  },
  {
   "cell_type": "code",
   "execution_count": 319,
   "metadata": {},
   "outputs": [
    {
     "name": "stdout",
     "output_type": "stream",
     "text": [
      "Populating the interactive namespace from numpy and matplotlib\n"
     ]
    }
   ],
   "source": [
    "%pylab inline\n",
    "def num_for_column(column):\n",
    "    return len(column)\n",
    "\n",
    "# 按照性别分组\n",
    "data_by_sex = titannic_data.groupby('Sex')"
   ]
  },
  {
   "cell_type": "code",
   "execution_count": 320,
   "metadata": {},
   "outputs": [
    {
     "name": "stdout",
     "output_type": "stream",
     "text": [
      "男性与女性人数：\n",
      "Sex\n",
      "female    314\n",
      "male      577\n",
      "Name: PassengerId, dtype: int64\n"
     ]
    },
    {
     "data": {
      "text/plain": [
       "<function matplotlib.pyplot.show>"
      ]
     },
     "execution_count": 320,
     "metadata": {},
     "output_type": "execute_result"
    },
    {
     "data": {
      "image/png": "[encoded data removed]",
      "text/plain": [
       "<matplotlib.figure.Figure at 0x13c4ac390>"
      ]
     },
     "metadata": {},
     "output_type": "display_data"
    }
   ],
   "source": [
    "# 查看分别对应的人数\n",
    "print \"男性与女性人数：\"\n",
    "print data_by_sex['PassengerId'].count()\n",
    "# 查看性别占比图\n",
    "data_by_sex['PassengerId'].count().plot(kind='pie', autopct='%.2f%%')\n",
    "plt.title('Sex VS Count')\n",
    "plt.show"
   ]
  },
  {
   "cell_type": "code",
   "execution_count": 321,
   "metadata": {},
   "outputs": [
    {
     "name": "stdout",
     "output_type": "stream",
     "text": [
      "男性生还人数：109，生还率：18.89%；女性生还人数：233，生还率：74.20%\n"
     ]
    },
    {
     "data": {
      "text/plain": [
       "<matplotlib.axes._subplots.AxesSubplot at 0x13c199e90>"
      ]
     },
     "execution_count": 321,
     "metadata": {},
     "output_type": "execute_result"
    },
    {
     "data": {
      "image/png": "[encoded data removed]",
      "text/plain": [
       "<matplotlib.figure.Figure at 0x13c4acbd0>"
      ]
     },
     "metadata": {},
     "output_type": "display_data"
    }
   ],
   "source": [
    "survived_data_by_sex = data_by_sex['Survived'].sum()\n",
    "total_data_by_sex = data_by_sex['Survived'].apply(num_for_column)\n",
    "scale_data = survived_data_by_sex / total_data_by_sex\n",
    "print \"男性生还人数：{:.0f}，生还率：{:.2%}；女性生还人数：{:.0f}，生还率：{:.2%}\".format(survived_data_by_sex['male'], scale_data['male'], survived_data_by_sex['female'], scale_data['female'])\n",
    "scale_data.plot(kind='bar')"
   ]
  },
  {
   "cell_type": "markdown",
   "metadata": {},
   "source": [
    "**结论：**上面的数据显示，男性人数为577，生还人数为109，生还率只有18.89%；而女性人数为314，生还人数为233，生还率却为74.20%。男性人数更多，但生还人数却更少，可以得出**女性生还率比男性高**。"
   ]
  },
  {
   "cell_type": "markdown",
   "metadata": {},
   "source": [
    "### 3、按照年龄分组，使用柱状图查看下，生还率高的集中在哪个年龄阶段"
   ]
  },
  {
   "cell_type": "markdown",
   "metadata": {},
   "source": [
    "首先删除年龄异常数据的乘客（小于等于0或大于等于200岁的人为异常数据）"
   ]
  },
  {
   "cell_type": "code",
   "execution_count": 322,
   "metadata": {},
   "outputs": [
    {
     "name": "stdout",
     "output_type": "stream",
     "text": [
      "Populating the interactive namespace from numpy and matplotlib\n"
     ]
    }
   ],
   "source": [
    "%pylab inline\n",
    "import matplotlib.pyplot as plt\n",
    "\n",
    "def is_normal_age(age):\n",
    "    if age > 0 and age < 200:\n",
    "        return True\n",
    "    return False\n",
    "\n",
    "normal_age_data = titannic_data[titannic_data['Age'].apply(is_normal_age)]"
   ]
  },
  {
   "cell_type": "markdown",
   "metadata": {},
   "source": [
    "然后，将数据按照按照年龄段进行分组，生成对应年龄段的饼状图和柱状图"
   ]
  },
  {
   "cell_type": "code",
   "execution_count": 323,
   "metadata": {},
   "outputs": [],
   "source": [
    "def add_range_age(data):\n",
    "    age = data['Age']\n",
    "    range_age = ''\n",
    "    if age <= 10:\n",
    "        range_age = '0~10'\n",
    "    elif age <= 20:\n",
    "        range_age = '10~20'\n",
    "    elif age <= 30:\n",
    "        range_age = '20~30'\n",
    "    elif age <= 40:\n",
    "        range_age = '30~40'\n",
    "    elif age <= 50:\n",
    "        range_age = '40~50'\n",
    "    elif age <= 60:\n",
    "        range_age = '50~60'\n",
    "    elif age <= 70:\n",
    "        range_age = '60~70'\n",
    "    elif age <= 80:\n",
    "        range_age = '70~80'\n",
    "    elif age <= 90:\n",
    "        range_age = '80~90'\n",
    "    elif age <= 100:\n",
    "        range_age = '90~100'\n",
    "    else:\n",
    "        range_age = '100+'\n",
    "    data['Range_age'] = range_age\n",
    "    del data['Age']\n",
    "    return data\n",
    "\n",
    "filter_data = normal_age_data[['Age', 'Survived']]\n",
    "filter_data = filter_data.apply(add_range_age, axis='columns')\n",
    "\n",
    "grouped_data = filter_data.groupby('Range_age', as_index=True)\n",
    "sum_data = grouped_data.sum()['Survived']\n",
    "total_data = grouped_data.apply(num_for_column)"
   ]
  },
  {
   "cell_type": "markdown",
   "metadata": {},
   "source": [
    "之后，查看年龄段总人数及所占比例"
   ]
  },
  {
   "cell_type": "code",
   "execution_count": 324,
   "metadata": {},
   "outputs": [
    {
     "name": "stdout",
     "output_type": "stream",
     "text": [
      "Range_age\n",
      "0~10      64\n",
      "10~20    115\n",
      "20~30    407\n",
      "30~40    155\n",
      "40~50     86\n",
      "50~60     42\n",
      "60~70     17\n",
      "70~80      5\n",
      "dtype: int64\n"
     ]
    },
    {
     "data": {
      "text/plain": [
       "<matplotlib.axes._subplots.AxesSubplot at 0x13c544ad0>"
      ]
     },
     "execution_count": 324,
     "metadata": {},
     "output_type": "execute_result"
    },
    {
     "data": {
      "image/png": "[encoded data removed]",
      "text/plain": [
       "<matplotlib.figure.Figure at 0x13cc12110>"
      ]
     },
     "metadata": {},
     "output_type": "display_data"
    }
   ],
   "source": [
    "print total_data\n",
    "total_data.plot(kind='pie', autopct='%.2f%%')"
   ]
  },
  {
   "cell_type": "markdown",
   "metadata": {},
   "source": [
    "从上可知：\n",
    "* 0~10岁人数为64人，占比7.18%\n",
    "* 10~20岁人数为115人，占比12.91%\n",
    "* 20~30岁人数为407，占比45.68%\n",
    "* 30~40岁人数为155，占比17.40%\n",
    "* 40~50岁人数为86，占比4.71%\n",
    "* 50~60岁人数为42，占比4.71%\n",
    "* 60~70岁人数为17，占比1.91%\n",
    "* 70~80岁人数为5，占比0.56%"
   ]
  },
  {
   "cell_type": "markdown",
   "metadata": {},
   "source": [
    "再查看各个年龄段生还人数，及所占比例"
   ]
  },
  {
   "cell_type": "code",
   "execution_count": 325,
   "metadata": {},
   "outputs": [
    {
     "name": "stdout",
     "output_type": "stream",
     "text": [
      "Range_age\n",
      "0~10      38.0\n",
      "10~20     44.0\n",
      "20~30    136.0\n",
      "30~40     69.0\n",
      "40~50     33.0\n",
      "50~60     17.0\n",
      "60~70      4.0\n",
      "70~80      1.0\n",
      "Name: Survived, dtype: float64\n"
     ]
    },
    {
     "data": {
      "text/plain": [
       "<matplotlib.axes._subplots.AxesSubplot at 0x13c550490>"
      ]
     },
     "execution_count": 325,
     "metadata": {},
     "output_type": "execute_result"
    },
    {
     "data": {
      "image/png": "[encoded data removed]",
      "text/plain": [
       "<matplotlib.figure.Figure at 0x13d184110>"
      ]
     },
     "metadata": {},
     "output_type": "display_data"
    }
   ],
   "source": [
    "print sum_data\n",
    "\n",
    "sum_data.plot(kind='pie', autopct='%.2f%%')"
   ]
  },
  {
   "cell_type": "markdown",
   "metadata": {},
   "source": [
    "从上可知：\n",
    "* 0~10岁人数为38，占比11.11%\n",
    "* 10~20岁人数为44，占比12.87%\n",
    "* 20~30岁人数为136，占比39.77%\n",
    "* 30~40岁人数为69，占比20.18%\n",
    "* 40~50岁人数为33，占比9.65%\n",
    "* 50~60岁人数为17，占比4.97%\n",
    "* 60~70岁人数为4，占比1.17%\n",
    "* 70~80岁人数为1，占比0.29%"
   ]
  },
  {
   "cell_type": "markdown",
   "metadata": {},
   "source": [
    "最后，计算各个年龄段的生还率"
   ]
  },
  {
   "cell_type": "code",
   "execution_count": 326,
   "metadata": {},
   "outputs": [
    {
     "name": "stdout",
     "output_type": "stream",
     "text": [
      "Range_age\n",
      "0~10     0.593750\n",
      "10~20    0.382609\n",
      "20~30    0.334152\n",
      "30~40    0.445161\n",
      "40~50    0.383721\n",
      "50~60    0.404762\n",
      "60~70    0.235294\n",
      "70~80    0.200000\n",
      "dtype: float64\n"
     ]
    },
    {
     "data": {
      "text/plain": [
       "<matplotlib.axes._subplots.AxesSubplot at 0x13d308d50>"
      ]
     },
     "execution_count": 326,
     "metadata": {},
     "output_type": "execute_result"
    },
    {
     "data": {
      "image/png": "[encoded data removed]",
      "text/plain": [
       "<matplotlib.figure.Figure at 0x13d233d50>"
      ]
     },
     "metadata": {},
     "output_type": "display_data"
    }
   ],
   "source": [
    "result_data = sum_data / total_data\n",
    "print result_data\n",
    "\n",
    "result_data.plot(kind='bar', title='Survived')"
   ]
  },
  {
   "cell_type": "markdown",
   "metadata": {
    "collapsed": true
   },
   "source": [
    "**结论：**从上面可知，0~10年龄段的人共有64人，生还38人，生还率为59.38%，可比较出**年龄段处于0~10的生还率最高**。"
   ]
  },
  {
   "cell_type": "markdown",
   "metadata": {},
   "source": [
    "### 4、按照船舱等级分组，进行数据分析"
   ]
  },
  {
   "cell_type": "markdown",
   "metadata": {},
   "source": [
    "先选出数据"
   ]
  },
  {
   "cell_type": "code",
   "execution_count": 327,
   "metadata": {
    "collapsed": true
   },
   "outputs": [],
   "source": [
    "filter_data = titannic_data[['Pclass', 'Survived', 'PassengerId']]"
   ]
  },
  {
   "cell_type": "markdown",
   "metadata": {},
   "source": [
    "然后以Pclass分组，并且用饼状图显示对应的船舱人数所占比例"
   ]
  },
  {
   "cell_type": "code",
   "execution_count": 328,
   "metadata": {},
   "outputs": [
    {
     "name": "stdout",
     "output_type": "stream",
     "text": [
      "Pclass\n",
      "1    216\n",
      "2    184\n",
      "3    491\n",
      "Name: PassengerId, dtype: int64\n"
     ]
    },
    {
     "data": {
      "image/png": "[encoded data removed]",
      "text/plain": [
       "<matplotlib.figure.Figure at 0x13c246250>"
      ]
     },
     "metadata": {},
     "output_type": "display_data"
    }
   ],
   "source": [
    "grouped_data_by_class = filter_data.groupby('Pclass')\n",
    "print grouped_data_by_class['PassengerId'].count()\n",
    "\n",
    "grouped_data_by_class['PassengerId'].count().plot(kind='pie', autopct='%.2f%%')\n",
    "plt.title('Pclass vs count')\n",
    "plt.show()"
   ]
  },
  {
   "cell_type": "markdown",
   "metadata": {},
   "source": [
    "从上可知：\n",
    "* 头等舱人数为216，占比24.24%\n",
    "* 二等舱人数为184，占比20.65%\n",
    "* 普通舱人数为491，占比55.11%"
   ]
  },
  {
   "cell_type": "code",
   "execution_count": 329,
   "metadata": {},
   "outputs": [
    {
     "name": "stdout",
     "output_type": "stream",
     "text": [
      "生还人数：\n",
      "Pclass\n",
      "1    136\n",
      "2     87\n",
      "3    119\n",
      "Name: Survived, dtype: int64\n",
      "Pclass\n",
      "1    0.629630\n",
      "2    0.472826\n",
      "3    0.242363\n",
      "dtype: float64\n"
     ]
    },
    {
     "data": {
      "text/plain": [
       "<matplotlib.axes._subplots.AxesSubplot at 0x13d4abf10>"
      ]
     },
     "execution_count": 329,
     "metadata": {},
     "output_type": "execute_result"
    },
    {
     "data": {
      "image/png": "[encoded data removed]",
      "text/plain": [
       "<matplotlib.figure.Figure at 0x13c5c24d0>"
      ]
     },
     "metadata": {},
     "output_type": "display_data"
    }
   ],
   "source": [
    "sum2_data = grouped_data_by_class.sum()['Survived']\n",
    "total_data = grouped_data_by_class.apply(num_for_column)\n",
    "\n",
    "print \"生还人数：\"\n",
    "print sum2_data\n",
    "\n",
    "result_data = sum2_data / total_data\n",
    "\n",
    "print result_data\n",
    "result_data.plot(kind='bar')"
   ]
  },
  {
   "cell_type": "markdown",
   "metadata": {},
   "source": [
    "**结论：**头等舱的总人数为216，生还人数为136，生还率为62.96%；二等舱总人数为184，生还人数为87，生还率为47.28%；普通舱总人数为491，生还人数为119，的生还率为24.24%，**头等舱生还率最高**"
   ]
  },
  {
   "cell_type": "markdown",
   "metadata": {},
   "source": [
    "## 最后"
   ]
  },
  {
   "cell_type": "markdown",
   "metadata": {},
   "source": [
    "**结论：**\n",
    "影响生还率的因素为性别、年龄和船舱等级，从当前数据集分析出，**女性、儿童、头等舱的生还率较高**。\n",
    "\n",
    "不过，也存在一些因素会导致我们的数据分析结果不准确，这些因素有：\n",
    "* 从百度百科查询知道，泰坦尼克号船上总人数为2208人，而我们这里数据有891条，样本量已经够大，能够代表整体人口，会有一定的偏差。\n",
    "* 年龄数据缺失了177条，我们使用众数填充，会带入偏差和不确定性\n",
    "* 影响生还的因素还有求生艇数量、职业\n",
    "\n",
    "查看了网络上的信息所知，当泰坦尼克号要沉没时，首先让儿童和妇女离开，这就导致女性和儿童的生还率比较高；另外一方面，头等舱和二等舱中的救生艇比较多，所以在头等舱和二等舱的生还率更高。"
   ]
  },
  {
   "cell_type": "code",
   "execution_count": null,
   "metadata": {
    "collapsed": true
   },
   "outputs": [],
   "source": []
  }
 ],
 "metadata": {
  "kernelspec": {
   "display_name": "Python 2",
   "language": "python",
   "name": "python2"
  },
  "language_info": {
   "codemirror_mode": {
    "name": "ipython",
    "version": 2
   },
   "file_extension": ".py",
   "mimetype": "text/x-python",
   "name": "python",
   "nbconvert_exporter": "python",
   "pygments_lexer": "ipython2",
   "version": "2.7.13"
  }
 },
 "nbformat": 4,
 "nbformat_minor": 2
}

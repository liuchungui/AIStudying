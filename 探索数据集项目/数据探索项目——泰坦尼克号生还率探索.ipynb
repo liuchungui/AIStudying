{
 "cells": [
  {
   "cell_type": "markdown",
   "metadata": {},
   "source": [
    "我是对泰坦尼克号数据集进行探索，探索的问题：有哪些因素会让船上的人生还率更高。\n",
    "而我个人觉得：\n",
    "* 1、男性的生还率应该更高，\n",
    "* 2、年轻人（20~30岁）生还率更高\n",
    "* 3、不同的船舱生还率也不同"
   ]
  },
  {
   "cell_type": "markdown",
   "metadata": {},
   "source": [
    "### 1、我们读取数据集里面的数据"
   ]
  },
  {
   "cell_type": "code",
   "execution_count": 162,
   "metadata": {},
   "outputs": [],
   "source": [
    "#coding: utf-8\n",
    "import pandas as pd\n",
    "\n",
    "titannic_data = pd.read_csv('./titanic-data.csv')"
   ]
  },
  {
   "cell_type": "raw",
   "metadata": {},
   "source": [
    "2、按照性别分组，计算下男性和女性生还率人数"
   ]
  },
  {
   "cell_type": "code",
   "execution_count": 163,
   "metadata": {},
   "outputs": [
    {
     "name": "stdout",
     "output_type": "stream",
     "text": [
      "Populating the interactive namespace from numpy and matplotlib\n",
      "男性生还率：18.89%，女性生还率：74.20%\n"
     ]
    },
    {
     "data": {
      "text/plain": [
       "<matplotlib.axes._subplots.AxesSubplot at 0x116e93310>"
      ]
     },
     "execution_count": 163,
     "metadata": {},
     "output_type": "execute_result"
    },
    {
     "data": {
      "image/png": "[encoded data removed]",
      "text/plain": [
       "<matplotlib.figure.Figure at 0x108cc5190>"
      ]
     },
     "metadata": {},
     "output_type": "display_data"
    }
   ],
   "source": [
    "%pylab inline\n",
    "def num_for_column(column):\n",
    "    return len(column)\n",
    "\n",
    "# 按照性别分组\n",
    "data_by_sex = titannic_data.groupby('Sex')\n",
    "survived_data_by_sex = data_by_sex['Survived'].sum()\n",
    "total_data_by_sex = data_by_sex['Survived'].apply(num_for_column)\n",
    "scale_data = survived_data_by_sex / total_data_by_sex\n",
    "print \"男性生还率：{:.2%}，女性生还率：{:.2%}\".format(scale_data['male'], scale_data['female'])\n",
    "scale_data.plot(kind='bar')"
   ]
  },
  {
   "cell_type": "markdown",
   "metadata": {},
   "source": [
    "**结论：** 从上面的数据和柱状图可以看出，女性生还率为74.20%，男性生还率为18.89%，**女性生还率比男性高**。"
   ]
  },
  {
   "cell_type": "markdown",
   "metadata": {},
   "source": [
    "### 2、按照年龄分组，使用柱状图查看下，生还率高的集中在哪个年龄阶段"
   ]
  },
  {
   "cell_type": "markdown",
   "metadata": {},
   "source": [
    "首先删除没有年龄数据或异常数据的人"
   ]
  },
  {
   "cell_type": "code",
   "execution_count": 164,
   "metadata": {},
   "outputs": [
    {
     "name": "stdout",
     "output_type": "stream",
     "text": [
      "Populating the interactive namespace from numpy and matplotlib\n"
     ]
    }
   ],
   "source": [
    "%pylab inline\n",
    "import matplotlib.pyplot as plt\n",
    "\n",
    "def is_normal_age(age):\n",
    "    if age > 0 and age < 200:\n",
    "        return True\n",
    "    return False\n",
    "\n",
    "normal_age_data = titannic_data[titannic_data['Age'].apply(is_normal_age)]"
   ]
  },
  {
   "cell_type": "markdown",
   "metadata": {},
   "source": [
    "然后，将数据按照按照年龄段进行分组，从而做出一个年龄段的柱状图"
   ]
  },
  {
   "cell_type": "code",
   "execution_count": 176,
   "metadata": {},
   "outputs": [
    {
     "name": "stdout",
     "output_type": "stream",
     "text": [
      "Range_age\n",
      "0~10     0.593750\n",
      "10~20    0.382609\n",
      "20~30    0.365217\n",
      "30~40    0.445161\n",
      "40~50    0.383721\n",
      "50~60    0.404762\n",
      "60~70    0.235294\n",
      "70~80    0.200000\n",
      "dtype: float64\n"
     ]
    },
    {
     "data": {
      "text/plain": [
       "<matplotlib.axes._subplots.AxesSubplot at 0x13775a190>"
      ]
     },
     "execution_count": 176,
     "metadata": {},
     "output_type": "execute_result"
    },
    {
     "data": {
      "image/png": "[encoded data removed]",
      "text/plain": [
       "<matplotlib.figure.Figure at 0x134aa0c50>"
      ]
     },
     "metadata": {},
     "output_type": "display_data"
    }
   ],
   "source": [
    "def add_range_age(data):\n",
    "    age = data['Age']\n",
    "    range_age = ''\n",
    "    if age <= 10:\n",
    "        range_age = '0~10'\n",
    "    elif age <= 20:\n",
    "        range_age = '10~20'\n",
    "    elif age <= 30:\n",
    "        range_age = '20~30'\n",
    "    elif age <= 40:\n",
    "        range_age = '30~40'\n",
    "    elif age <= 50:\n",
    "        range_age = '40~50'\n",
    "    elif age <= 60:\n",
    "        range_age = '50~60'\n",
    "    elif age <= 70:\n",
    "        range_age = '60~70'\n",
    "    elif age <= 80:\n",
    "        range_age = '70~80'\n",
    "    elif age <= 90:\n",
    "        range_age = '80~90'\n",
    "    elif age <= 100:\n",
    "        range_age = '90~100'\n",
    "    else:\n",
    "        range_age = '100+'\n",
    "    data['Range_age'] = range_age\n",
    "    del data['Age']\n",
    "    return data\n",
    "\n",
    "filter_data = normal_age_data[['Age', 'Survived']]\n",
    "filter_data = filter_data.apply(add_range_age, axis='columns')\n",
    "\n",
    "grouped_data = filter_data.groupby('Range_age', as_index=True)\n",
    "sum_data = grouped_data.sum()['Survived']\n",
    "total_data = grouped_data.apply(num_for_column)\n",
    "\n",
    "result_data = sum_data / total_data\n",
    "print result_data\n",
    "\n",
    "result_data.plot(kind='bar', title='Survived Num')"
   ]
  },
  {
   "cell_type": "markdown",
   "metadata": {
    "collapsed": true
   },
   "source": [
    "**结论：**从上面可以看出来，**年龄段处于0~10的生还率最高**，为59.38%"
   ]
  },
  {
   "cell_type": "markdown",
   "metadata": {},
   "source": [
    "### 3、按照船舱等级分组，使用柱状图比较生还率哪个最高"
   ]
  },
  {
   "cell_type": "code",
   "execution_count": 178,
   "metadata": {},
   "outputs": [],
   "source": [
    "filter_data = titannic_data[['Pclass', 'Survived']]"
   ]
  },
  {
   "cell_type": "code",
   "execution_count": 184,
   "metadata": {},
   "outputs": [
    {
     "name": "stdout",
     "output_type": "stream",
     "text": [
      "Pclass\n",
      "1    0.629630\n",
      "2    0.472826\n",
      "3    0.242363\n",
      "dtype: float64\n"
     ]
    },
    {
     "data": {
      "text/plain": [
       "<matplotlib.axes._subplots.AxesSubplot at 0x137b44050>"
      ]
     },
     "execution_count": 184,
     "metadata": {},
     "output_type": "execute_result"
    },
    {
     "data": {
      "image/png": "[encoded data removed]",
      "text/plain": [
       "<matplotlib.figure.Figure at 0x135d1d5d0>"
      ]
     },
     "metadata": {},
     "output_type": "display_data"
    }
   ],
   "source": [
    "grouped_data = filter_data.groupby('Pclass')\n",
    "sum_data = grouped_data.sum()['Survived']\n",
    "total_data = grouped_data.apply(num_for_column)\n",
    "\n",
    "result_data = sum_data / total_data\n",
    "\n",
    "print result_data\n",
    "result_data.plot(kind='bar')"
   ]
  },
  {
   "cell_type": "markdown",
   "metadata": {},
   "source": [
    "**结论：**头等舱的生还率为62.96%，二等舱生还率为47.28%，普通舱的生还率为24.24%，**头等舱生还率最高**"
   ]
  },
  {
   "cell_type": "markdown",
   "metadata": {},
   "source": [
    "## 最后"
   ]
  },
  {
   "cell_type": "markdown",
   "metadata": {},
   "source": [
    "结论：影响生还率的因素为性别、年龄和船舱等级，相对的，女性、儿童、头等舱的生还率较高。查看了网络上的信息所知，这是因为泰坦尼克号要沉没时，首先让儿童和妇女离开，这就导致女性和儿童的生还率比较高；另外一方面，头等舱和二等舱中的救生艇比较多，所以在头等舱和二等舱的生还率更高。"
   ]
  },
  {
   "cell_type": "code",
   "execution_count": null,
   "metadata": {
    "collapsed": true
   },
   "outputs": [],
   "source": []
  }
 ],
 "metadata": {
  "kernelspec": {
   "display_name": "Python 2",
   "language": "python",
   "name": "python2"
  },
  "language_info": {
   "codemirror_mode": {
    "name": "ipython",
    "version": 2
   },
   "file_extension": ".py",
   "mimetype": "text/x-python",
   "name": "python",
   "nbconvert_exporter": "python",
   "pygments_lexer": "ipython2",
   "version": "2.7.13"
  }
 },
 "nbformat": 4,
 "nbformat_minor": 2
}

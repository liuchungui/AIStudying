{
 "cells": [
  {
   "cell_type": "markdown",
   "metadata": {},
   "source": [
    "在开始之前，使用 iPython 笔记本时有几点需要注意一下：\n",
    "\n",
    "- 如果代码单元格被运行之后，在单元格的左侧方框中会有数字出现。\n",
    "- 当你启动一个新的笔记本会话时，请确保运行所有单元格（从第1个到你上次离开的单元格）。即使笔记本中依然可以看到上次运行所得到的输出，你重新运行的笔记本内核却处于一个完全新的状态，所以你需要重载数据和运行代码。\n",
    "- 上一条注意事项特别重要。当你的答案和课程中的练习不一致时，请试着重载数据并一个一个运行代码单元格，以确保你所操作的变量和数据和练习中的一致。\n",
    "\n",
    "\n",
    "## 从 CSV 加载数据"
   ]
  },
  {
   "cell_type": "code",
   "execution_count": 1,
   "metadata": {
    "collapsed": true
   },
   "outputs": [],
   "source": [
    "import unicodecsv\n",
    "\n",
    "## 长代码版本 (该版本与短代码版本功能一致)\n",
    "\n",
    "# enrollments = []\n",
    "# f = open('enrollments.csv', 'rb')\n",
    "# reader = unicodecsv.DictReader(f)\n",
    "# for row in reader:\n",
    "#     enrollments.append(row)\n",
    "# f.close()\n",
    "\n",
    "# with open('enrollments.csv', 'rb') as f:\n",
    "#     reader = unicodecsv.DictReader(f)\n",
    "#     enrollments = list(reader)\n",
    "def read_csv(filename):\n",
    "    with open(filename, 'rb') as f:\n",
    "        reader = unicodecsv.DictReader(f)\n",
    "        return list(reader)"
   ]
  },
  {
   "cell_type": "code",
   "execution_count": 2,
   "metadata": {},
   "outputs": [
    {
     "name": "stdout",
     "output_type": "stream",
     "text": [
      "{u'lessons_completed': u'0.0', u'num_courses_visited': u'1.0', u'total_minutes_visited': u'11.6793745', u'projects_completed': u'0.0', u'acct': u'0', u'utc_date': u'2015-01-09'}\n",
      "{u'lesson_key': u'3176718735', u'processing_state': u'EVALUATED', u'account_key': u'256', u'assigned_rating': u'UNGRADED', u'completion_date': u'2015-01-16', u'creation_date': u'2015-01-14'}\n"
     ]
    }
   ],
   "source": [
    "#####################################\n",
    "#                 1                 #\n",
    "#####################################\n",
    "\n",
    "## 从 daily_engagement.csv 和 project_submissions.csv 载入数据并存\n",
    "## 储至下面的变量中，然后检查每张表的第1行。\n",
    "\n",
    "enrollments = read_csv('enrollments.csv')\n",
    "daily_engagement = read_csv(\"daily-engagement.csv\")\n",
    "project_submissions = read_csv(\"project-submissions.csv\")\n",
    "print daily_engagement[0]\n",
    "print project_submissions[0]"
   ]
  },
  {
   "cell_type": "markdown",
   "metadata": {},
   "source": [
    "## 修正数据类型"
   ]
  },
  {
   "cell_type": "code",
   "execution_count": 3,
   "metadata": {},
   "outputs": [
    {
     "data": {
      "text/plain": [
       "{u'account_key': u'448',\n",
       " u'cancel_date': datetime.datetime(2015, 1, 14, 0, 0),\n",
       " u'days_to_cancel': 65,\n",
       " u'is_canceled': True,\n",
       " u'is_udacity': True,\n",
       " u'join_date': datetime.datetime(2014, 11, 10, 0, 0),\n",
       " u'status': u'canceled'}"
      ]
     },
     "execution_count": 3,
     "metadata": {},
     "output_type": "execute_result"
    }
   ],
   "source": [
    "from datetime import datetime as dt\n",
    "\n",
    "# 将字符串格式的时间转为 Python datetime 类型的时间。\n",
    "# 如果没有时间字符串传入，返回 None\n",
    "\n",
    "def parse_date(date):\n",
    "    if date == '':\n",
    "        return None\n",
    "    else:\n",
    "        return dt.strptime(date, '%Y-%m-%d')\n",
    "    \n",
    "# 将可能是空字符串或字符串类型的数据转为 整型 或 None。\n",
    "\n",
    "def parse_maybe_int(i):\n",
    "    if i == '':\n",
    "        return None\n",
    "    else:\n",
    "        return int(i)\n",
    "\n",
    "# 清理 enrollments 表格中的数据类型\n",
    "enrollments = read_csv(\"./enrollments.csv\")\n",
    "\n",
    "for enrollment in enrollments:\n",
    "    enrollment['cancel_date'] = parse_date(enrollment['cancel_date'])\n",
    "    enrollment['days_to_cancel'] = parse_maybe_int(enrollment['days_to_cancel'])\n",
    "    enrollment['is_canceled'] = enrollment['is_canceled'] == 'True'\n",
    "    enrollment['is_udacity'] = enrollment['is_udacity'] == 'True'\n",
    "    enrollment['join_date'] = parse_date(enrollment['join_date'])\n",
    "    \n",
    "enrollments[0]"
   ]
  },
  {
   "cell_type": "code",
   "execution_count": 4,
   "metadata": {},
   "outputs": [
    {
     "data": {
      "text/plain": [
       "{u'acct': u'0',\n",
       " u'lessons_completed': 0,\n",
       " u'num_courses_visited': 1,\n",
       " u'projects_completed': 0,\n",
       " u'total_minutes_visited': 11.6793745,\n",
       " u'utc_date': datetime.datetime(2015, 1, 9, 0, 0)}"
      ]
     },
     "execution_count": 4,
     "metadata": {},
     "output_type": "execute_result"
    }
   ],
   "source": [
    "# 清理 engagement 的数据类型\n",
    "for engagement_record in daily_engagement:\n",
    "    engagement_record['lessons_completed'] = int(float(engagement_record['lessons_completed']))\n",
    "    engagement_record['num_courses_visited'] = int(float(engagement_record['num_courses_visited']))\n",
    "    engagement_record['projects_completed'] = int(float(engagement_record['projects_completed']))\n",
    "    engagement_record['total_minutes_visited'] = float(engagement_record['total_minutes_visited'])\n",
    "    engagement_record['utc_date'] = parse_date(engagement_record['utc_date'])\n",
    "    \n",
    "daily_engagement[0]"
   ]
  },
  {
   "cell_type": "code",
   "execution_count": 5,
   "metadata": {},
   "outputs": [
    {
     "data": {
      "text/plain": [
       "{u'account_key': u'256',\n",
       " u'assigned_rating': u'UNGRADED',\n",
       " u'completion_date': datetime.datetime(2015, 1, 16, 0, 0),\n",
       " u'creation_date': datetime.datetime(2015, 1, 14, 0, 0),\n",
       " u'lesson_key': u'3176718735',\n",
       " u'processing_state': u'EVALUATED'}"
      ]
     },
     "execution_count": 5,
     "metadata": {},
     "output_type": "execute_result"
    }
   ],
   "source": [
    "# 清理 submissions 的数据类型\n",
    "for submission in project_submissions:\n",
    "    submission['completion_date'] = parse_date(submission['completion_date'])\n",
    "    submission['creation_date'] = parse_date(submission['creation_date'])\n",
    "\n",
    "project_submissions[0]"
   ]
  },
  {
   "cell_type": "markdown",
   "metadata": {},
   "source": [
    "注意：当我们在运行上方的单元格时，我们已经改变了数据变量中的内容。如果你试着在同一个会话多次运行这些单元格时，可能会出错。\n",
    "\n",
    "## 探索数据"
   ]
  },
  {
   "cell_type": "markdown",
   "metadata": {},
   "source": [
    "## 数据中的问题"
   ]
  },
  {
   "cell_type": "code",
   "execution_count": 6,
   "metadata": {
    "collapsed": true
   },
   "outputs": [],
   "source": [
    "#####################################\n",
    "#                 3                 #\n",
    "#####################################\n",
    "\n",
    "## 将 daily_engagement 表中的 \"acct\" 重命名为 ”account_key\"\n",
    "for engagement_record in daily_engagement:\n",
    "    engagement_record['account_key'] = engagement_record['acct']\n",
    "    del engagement_record['acct']\n"
   ]
  },
  {
   "cell_type": "code",
   "execution_count": 7,
   "metadata": {},
   "outputs": [
    {
     "name": "stdout",
     "output_type": "stream",
     "text": [
      "1640\n",
      "1302\n",
      "136240\n",
      "1237\n",
      "3642\n",
      "3642\n"
     ]
    }
   ],
   "source": [
    "#####################################\n",
    "#                 2                 #\n",
    "#####################################\n",
    "\n",
    "## 计算每张表中的总行数，和独立学生（拥有独立的 account keys）的数量\n",
    "def unique_studetns(data):\n",
    "    result = set()\n",
    "    for value in data:\n",
    "        result.add(value['account_key'])\n",
    "    return result\n",
    "\n",
    "enrollment_num_rows = len(enrollments)            \n",
    "print enrollment_num_rows\n",
    "enrollment_num_unique_students = len(unique_studetns(enrollments))\n",
    "print enrollment_num_unique_students\n",
    "\n",
    "engagement_num_rows = len(daily_engagement)\n",
    "print engagement_num_rows\n",
    "engagement_num_unique_students = len(unique_studetns(daily_engagement))\n",
    "print engagement_num_unique_students\n",
    "\n",
    "submission_num_rows = len(project_submissions)\n",
    "print submission_num_rows\n",
    "submission_num_unique_students = len(project_submissions)\n",
    "print submission_num_unique_students\n"
   ]
  },
  {
   "cell_type": "markdown",
   "metadata": {},
   "source": [
    "## 缺失的互动（Engagement）记录"
   ]
  },
  {
   "cell_type": "code",
   "execution_count": 8,
   "metadata": {},
   "outputs": [
    {
     "name": "stdout",
     "output_type": "stream",
     "text": [
      "{u'status': u'canceled', u'is_udacity': False, u'is_canceled': True, u'join_date': datetime.datetime(2014, 11, 12, 0, 0), u'account_key': u'1219', u'cancel_date': datetime.datetime(2014, 11, 12, 0, 0), u'days_to_cancel': 0}\n",
      "{u'status': u'canceled', u'is_udacity': False, u'is_canceled': True, u'join_date': datetime.datetime(2014, 11, 13, 0, 0), u'account_key': u'871', u'cancel_date': datetime.datetime(2014, 11, 13, 0, 0), u'days_to_cancel': 0}\n",
      "{u'status': u'canceled', u'is_udacity': False, u'is_canceled': True, u'join_date': datetime.datetime(2014, 11, 15, 0, 0), u'account_key': u'1218', u'cancel_date': datetime.datetime(2014, 11, 15, 0, 0), u'days_to_cancel': 0}\n",
      "{u'status': u'canceled', u'is_udacity': False, u'is_canceled': True, u'join_date': datetime.datetime(2014, 12, 4, 0, 0), u'account_key': u'654', u'cancel_date': datetime.datetime(2014, 12, 4, 0, 0), u'days_to_cancel': 0}\n",
      "{u'status': u'canceled', u'is_udacity': False, u'is_canceled': True, u'join_date': datetime.datetime(2014, 12, 4, 0, 0), u'account_key': u'654', u'cancel_date': datetime.datetime(2014, 12, 4, 0, 0), u'days_to_cancel': 0}\n",
      "{u'status': u'canceled', u'is_udacity': False, u'is_canceled': True, u'join_date': datetime.datetime(2014, 12, 3, 0, 0), u'account_key': u'654', u'cancel_date': datetime.datetime(2014, 12, 3, 0, 0), u'days_to_cancel': 0}\n",
      "{u'status': u'canceled', u'is_udacity': False, u'is_canceled': True, u'join_date': datetime.datetime(2014, 12, 4, 0, 0), u'account_key': u'964', u'cancel_date': datetime.datetime(2014, 12, 4, 0, 0), u'days_to_cancel': 0}\n",
      "{u'status': u'canceled', u'is_udacity': False, u'is_canceled': True, u'join_date': datetime.datetime(2014, 12, 9, 0, 0), u'account_key': u'817', u'cancel_date': datetime.datetime(2014, 12, 9, 0, 0), u'days_to_cancel': 0}\n",
      "{u'status': u'canceled', u'is_udacity': False, u'is_canceled': True, u'join_date': datetime.datetime(2015, 1, 7, 0, 0), u'account_key': u'1171', u'cancel_date': datetime.datetime(2015, 1, 7, 0, 0), u'days_to_cancel': 0}\n",
      "{u'status': u'canceled', u'is_udacity': False, u'is_canceled': True, u'join_date': datetime.datetime(2015, 1, 8, 0, 0), u'account_key': u'884', u'cancel_date': datetime.datetime(2015, 1, 8, 0, 0), u'days_to_cancel': 0}\n",
      "{u'status': u'canceled', u'is_udacity': False, u'is_canceled': True, u'join_date': datetime.datetime(2014, 11, 17, 0, 0), u'account_key': u'875', u'cancel_date': datetime.datetime(2014, 11, 17, 0, 0), u'days_to_cancel': 0}\n",
      "{u'status': u'canceled', u'is_udacity': False, u'is_canceled': True, u'join_date': datetime.datetime(2014, 12, 4, 0, 0), u'account_key': u'1120', u'cancel_date': datetime.datetime(2014, 12, 4, 0, 0), u'days_to_cancel': 0}\n",
      "{u'status': u'canceled', u'is_udacity': False, u'is_canceled': True, u'join_date': datetime.datetime(2014, 12, 5, 0, 0), u'account_key': u'728', u'cancel_date': datetime.datetime(2014, 12, 5, 0, 0), u'days_to_cancel': 0}\n",
      "{u'status': u'canceled', u'is_udacity': False, u'is_canceled': True, u'join_date': datetime.datetime(2015, 1, 11, 0, 0), u'account_key': u'1191', u'cancel_date': datetime.datetime(2015, 1, 11, 0, 0), u'days_to_cancel': 0}\n",
      "{u'status': u'canceled', u'is_udacity': True, u'is_canceled': True, u'join_date': datetime.datetime(2015, 1, 10, 0, 0), u'account_key': u'1304', u'cancel_date': datetime.datetime(2015, 3, 10, 0, 0), u'days_to_cancel': 59}\n",
      "{u'status': u'canceled', u'is_udacity': True, u'is_canceled': True, u'join_date': datetime.datetime(2015, 3, 10, 0, 0), u'account_key': u'1304', u'cancel_date': datetime.datetime(2015, 6, 17, 0, 0), u'days_to_cancel': 99}\n",
      "{u'status': u'canceled', u'is_udacity': False, u'is_canceled': True, u'join_date': datetime.datetime(2015, 1, 11, 0, 0), u'account_key': u'1010', u'cancel_date': datetime.datetime(2015, 1, 11, 0, 0), u'days_to_cancel': 0}\n",
      "{u'status': u'canceled', u'is_udacity': False, u'is_canceled': True, u'join_date': datetime.datetime(2014, 11, 12, 0, 0), u'account_key': u'841', u'cancel_date': datetime.datetime(2014, 11, 12, 0, 0), u'days_to_cancel': 0}\n",
      "{u'status': u'canceled', u'is_udacity': False, u'is_canceled': True, u'join_date': datetime.datetime(2014, 12, 3, 0, 0), u'account_key': u'707', u'cancel_date': datetime.datetime(2014, 12, 3, 0, 0), u'days_to_cancel': 0}\n",
      "{u'status': u'canceled', u'is_udacity': False, u'is_canceled': True, u'join_date': datetime.datetime(2014, 12, 4, 0, 0), u'account_key': u'717', u'cancel_date': datetime.datetime(2014, 12, 4, 0, 0), u'days_to_cancel': 0}\n",
      "{u'status': u'canceled', u'is_udacity': False, u'is_canceled': True, u'join_date': datetime.datetime(2014, 12, 7, 0, 0), u'account_key': u'727', u'cancel_date': datetime.datetime(2014, 12, 7, 0, 0), u'days_to_cancel': 0}\n",
      "{u'status': u'canceled', u'is_udacity': False, u'is_canceled': True, u'join_date': datetime.datetime(2015, 1, 12, 0, 0), u'account_key': u'1273', u'cancel_date': datetime.datetime(2015, 1, 12, 0, 0), u'days_to_cancel': 0}\n",
      "{u'status': u'canceled', u'is_udacity': False, u'is_canceled': True, u'join_date': datetime.datetime(2014, 11, 10, 0, 0), u'account_key': u'1238', u'cancel_date': datetime.datetime(2014, 11, 10, 0, 0), u'days_to_cancel': 0}\n",
      "{u'status': u'canceled', u'is_udacity': False, u'is_canceled': True, u'join_date': datetime.datetime(2015, 2, 8, 0, 0), u'account_key': u'1044', u'cancel_date': datetime.datetime(2015, 2, 8, 0, 0), u'days_to_cancel': 0}\n",
      "{u'status': u'canceled', u'is_udacity': False, u'is_canceled': True, u'join_date': datetime.datetime(2015, 3, 5, 0, 0), u'account_key': u'749', u'cancel_date': datetime.datetime(2015, 3, 5, 0, 0), u'days_to_cancel': 0}\n",
      "{u'status': u'canceled', u'is_udacity': False, u'is_canceled': True, u'join_date': datetime.datetime(2015, 3, 7, 0, 0), u'account_key': u'1129', u'cancel_date': datetime.datetime(2015, 3, 7, 0, 0), u'days_to_cancel': 0}\n",
      "{u'status': u'canceled', u'is_udacity': False, u'is_canceled': True, u'join_date': datetime.datetime(2015, 2, 11, 0, 0), u'account_key': u'1129', u'cancel_date': datetime.datetime(2015, 2, 11, 0, 0), u'days_to_cancel': 0}\n",
      "{u'status': u'canceled', u'is_udacity': False, u'is_canceled': True, u'join_date': datetime.datetime(2015, 4, 6, 0, 0), u'account_key': u'926', u'cancel_date': datetime.datetime(2015, 4, 6, 0, 0), u'days_to_cancel': 0}\n",
      "{u'status': u'canceled', u'is_udacity': False, u'is_canceled': True, u'join_date': datetime.datetime(2015, 5, 8, 0, 0), u'account_key': u'711', u'cancel_date': datetime.datetime(2015, 5, 8, 0, 0), u'days_to_cancel': 0}\n",
      "{u'status': u'canceled', u'is_udacity': False, u'is_canceled': True, u'join_date': datetime.datetime(2015, 1, 8, 0, 0), u'account_key': u'803', u'cancel_date': datetime.datetime(2015, 1, 8, 0, 0), u'days_to_cancel': 0}\n",
      "{u'status': u'canceled', u'is_udacity': False, u'is_canceled': True, u'join_date': datetime.datetime(2015, 2, 6, 0, 0), u'account_key': u'799', u'cancel_date': datetime.datetime(2015, 2, 6, 0, 0), u'days_to_cancel': 0}\n",
      "{u'status': u'canceled', u'is_udacity': False, u'is_canceled': True, u'join_date': datetime.datetime(2015, 2, 6, 0, 0), u'account_key': u'789', u'cancel_date': datetime.datetime(2015, 2, 6, 0, 0), u'days_to_cancel': 0}\n",
      "{u'status': u'canceled', u'is_udacity': False, u'is_canceled': True, u'join_date': datetime.datetime(2015, 3, 4, 0, 0), u'account_key': u'819', u'cancel_date': datetime.datetime(2015, 3, 4, 0, 0), u'days_to_cancel': 0}\n",
      "{u'status': u'canceled', u'is_udacity': False, u'is_canceled': True, u'join_date': datetime.datetime(2015, 3, 4, 0, 0), u'account_key': u'819', u'cancel_date': datetime.datetime(2015, 3, 4, 0, 0), u'days_to_cancel': 0}\n",
      "{u'status': u'canceled', u'is_udacity': False, u'is_canceled': True, u'join_date': datetime.datetime(2015, 5, 29, 0, 0), u'account_key': u'902', u'cancel_date': datetime.datetime(2015, 5, 29, 0, 0), u'days_to_cancel': 0}\n",
      "{u'status': u'canceled', u'is_udacity': False, u'is_canceled': True, u'join_date': datetime.datetime(2015, 5, 29, 0, 0), u'account_key': u'996', u'cancel_date': datetime.datetime(2015, 5, 29, 0, 0), u'days_to_cancel': 0}\n",
      "{u'status': u'canceled', u'is_udacity': False, u'is_canceled': True, u'join_date': datetime.datetime(2015, 1, 12, 0, 0), u'account_key': u'1213', u'cancel_date': datetime.datetime(2015, 1, 12, 0, 0), u'days_to_cancel': 0}\n",
      "{u'status': u'canceled', u'is_udacity': False, u'is_canceled': True, u'join_date': datetime.datetime(2015, 1, 12, 0, 0), u'account_key': u'733', u'cancel_date': datetime.datetime(2015, 1, 12, 0, 0), u'days_to_cancel': 0}\n",
      "{u'status': u'canceled', u'is_udacity': False, u'is_canceled': True, u'join_date': datetime.datetime(2015, 5, 28, 0, 0), u'account_key': u'1237', u'cancel_date': datetime.datetime(2015, 5, 28, 0, 0), u'days_to_cancel': 0}\n",
      "{u'status': u'canceled', u'is_udacity': True, u'is_canceled': True, u'join_date': datetime.datetime(2015, 6, 1, 0, 0), u'account_key': u'1069', u'cancel_date': datetime.datetime(2015, 6, 1, 0, 0), u'days_to_cancel': 0}\n",
      "{u'status': u'canceled', u'is_udacity': False, u'is_canceled': True, u'join_date': datetime.datetime(2015, 6, 9, 0, 0), u'account_key': u'1086', u'cancel_date': datetime.datetime(2015, 6, 9, 0, 0), u'days_to_cancel': 0}\n",
      "{u'status': u'canceled', u'is_udacity': False, u'is_canceled': True, u'join_date': datetime.datetime(2015, 3, 6, 0, 0), u'account_key': u'1190', u'cancel_date': datetime.datetime(2015, 3, 6, 0, 0), u'days_to_cancel': 0}\n",
      "{u'status': u'canceled', u'is_udacity': False, u'is_canceled': True, u'join_date': datetime.datetime(2015, 4, 2, 0, 0), u'account_key': u'914', u'cancel_date': datetime.datetime(2015, 4, 2, 0, 0), u'days_to_cancel': 0}\n",
      "{u'status': u'canceled', u'is_udacity': False, u'is_canceled': True, u'join_date': datetime.datetime(2015, 7, 17, 0, 0), u'account_key': u'914', u'cancel_date': datetime.datetime(2015, 7, 17, 0, 0), u'days_to_cancel': 0}\n",
      "{u'status': u'canceled', u'is_udacity': False, u'is_canceled': True, u'join_date': datetime.datetime(2015, 7, 17, 0, 0), u'account_key': u'968', u'cancel_date': datetime.datetime(2015, 7, 17, 0, 0), u'days_to_cancel': 0}\n",
      "{u'status': u'canceled', u'is_udacity': False, u'is_canceled': True, u'join_date': datetime.datetime(2015, 7, 17, 0, 0), u'account_key': u'1155', u'cancel_date': datetime.datetime(2015, 7, 17, 0, 0), u'days_to_cancel': 0}\n",
      "{u'status': u'canceled', u'is_udacity': False, u'is_canceled': True, u'join_date': datetime.datetime(2015, 5, 10, 0, 0), u'account_key': u'766', u'cancel_date': datetime.datetime(2015, 5, 10, 0, 0), u'days_to_cancel': 0}\n",
      "{u'status': u'canceled', u'is_udacity': False, u'is_canceled': True, u'join_date': datetime.datetime(2015, 4, 5, 0, 0), u'account_key': u'739', u'cancel_date': datetime.datetime(2015, 4, 5, 0, 0), u'days_to_cancel': 0}\n",
      "{u'status': u'canceled', u'is_udacity': False, u'is_canceled': True, u'join_date': datetime.datetime(2015, 4, 7, 0, 0), u'account_key': u'1222', u'cancel_date': datetime.datetime(2015, 4, 7, 0, 0), u'days_to_cancel': 0}\n",
      "{u'status': u'canceled', u'is_udacity': False, u'is_canceled': True, u'join_date': datetime.datetime(2015, 5, 31, 0, 0), u'account_key': u'1125', u'cancel_date': datetime.datetime(2015, 5, 31, 0, 0), u'days_to_cancel': 0}\n",
      "{u'status': u'canceled', u'is_udacity': False, u'is_canceled': True, u'join_date': datetime.datetime(2015, 6, 7, 0, 0), u'account_key': u'1025', u'cancel_date': datetime.datetime(2015, 6, 7, 0, 0), u'days_to_cancel': 0}\n",
      "{u'status': u'canceled', u'is_udacity': False, u'is_canceled': True, u'join_date': datetime.datetime(2015, 6, 6, 0, 0), u'account_key': u'750', u'cancel_date': datetime.datetime(2015, 6, 6, 0, 0), u'days_to_cancel': 0}\n",
      "{u'status': u'canceled', u'is_udacity': False, u'is_canceled': True, u'join_date': datetime.datetime(2015, 8, 11, 0, 0), u'account_key': u'889', u'cancel_date': datetime.datetime(2015, 8, 11, 0, 0), u'days_to_cancel': 0}\n",
      "{u'status': u'canceled', u'is_udacity': False, u'is_canceled': True, u'join_date': datetime.datetime(2014, 11, 10, 0, 0), u'account_key': u'737', u'cancel_date': datetime.datetime(2014, 11, 10, 0, 0), u'days_to_cancel': 0}\n",
      "{u'status': u'canceled', u'is_udacity': False, u'is_canceled': True, u'join_date': datetime.datetime(2014, 11, 10, 0, 0), u'account_key': u'878', u'cancel_date': datetime.datetime(2014, 11, 10, 0, 0), u'days_to_cancel': 0}\n",
      "{u'status': u'canceled', u'is_udacity': False, u'is_canceled': True, u'join_date': datetime.datetime(2015, 2, 7, 0, 0), u'account_key': u'981', u'cancel_date': datetime.datetime(2015, 2, 7, 0, 0), u'days_to_cancel': 0}\n",
      "{u'status': u'current', u'is_udacity': True, u'is_canceled': False, u'join_date': datetime.datetime(2015, 2, 25, 0, 0), u'account_key': u'1101', u'cancel_date': None, u'days_to_cancel': None}\n",
      "{u'status': u'canceled', u'is_udacity': False, u'is_canceled': True, u'join_date': datetime.datetime(2015, 3, 9, 0, 0), u'account_key': u'1148', u'cancel_date': datetime.datetime(2015, 3, 9, 0, 0), u'days_to_cancel': 0}\n",
      "{u'status': u'canceled', u'is_udacity': False, u'is_canceled': True, u'join_date': datetime.datetime(2015, 3, 11, 0, 0), u'account_key': u'1186', u'cancel_date': datetime.datetime(2015, 3, 11, 0, 0), u'days_to_cancel': 0}\n",
      "{u'status': u'canceled', u'is_udacity': False, u'is_canceled': True, u'join_date': datetime.datetime(2014, 12, 6, 0, 0), u'account_key': u'725', u'cancel_date': datetime.datetime(2014, 12, 6, 0, 0), u'days_to_cancel': 0}\n",
      "{u'status': u'canceled', u'is_udacity': False, u'is_canceled': True, u'join_date': datetime.datetime(2015, 4, 4, 0, 0), u'account_key': u'1145', u'cancel_date': datetime.datetime(2015, 4, 4, 0, 0), u'days_to_cancel': 0}\n",
      "{u'status': u'canceled', u'is_udacity': False, u'is_canceled': True, u'join_date': datetime.datetime(2015, 1, 8, 0, 0), u'account_key': u'802', u'cancel_date': datetime.datetime(2015, 1, 8, 0, 0), u'days_to_cancel': 0}\n",
      "{u'status': u'canceled', u'is_udacity': False, u'is_canceled': True, u'join_date': datetime.datetime(2015, 1, 8, 0, 0), u'account_key': u'664', u'cancel_date': datetime.datetime(2015, 1, 8, 0, 0), u'days_to_cancel': 0}\n",
      "{u'status': u'canceled', u'is_udacity': False, u'is_canceled': True, u'join_date': datetime.datetime(2015, 1, 12, 0, 0), u'account_key': u'997', u'cancel_date': datetime.datetime(2015, 1, 12, 0, 0), u'days_to_cancel': 0}\n",
      "{u'status': u'canceled', u'is_udacity': False, u'is_canceled': True, u'join_date': datetime.datetime(2015, 5, 12, 0, 0), u'account_key': u'870', u'cancel_date': datetime.datetime(2015, 5, 12, 0, 0), u'days_to_cancel': 0}\n",
      "{u'status': u'canceled', u'is_udacity': False, u'is_canceled': True, u'join_date': datetime.datetime(2015, 1, 13, 0, 0), u'account_key': u'1284', u'cancel_date': datetime.datetime(2015, 1, 13, 0, 0), u'days_to_cancel': 0}\n",
      "{u'status': u'canceled', u'is_udacity': False, u'is_canceled': True, u'join_date': datetime.datetime(2015, 2, 9, 0, 0), u'account_key': u'1079', u'cancel_date': datetime.datetime(2015, 2, 9, 0, 0), u'days_to_cancel': 0}\n",
      "{u'status': u'canceled', u'is_udacity': False, u'is_canceled': True, u'join_date': datetime.datetime(2015, 7, 14, 0, 0), u'account_key': u'1063', u'cancel_date': datetime.datetime(2015, 7, 14, 0, 0), u'days_to_cancel': 0}\n",
      "{u'status': u'canceled', u'is_udacity': False, u'is_canceled': True, u'join_date': datetime.datetime(2015, 7, 20, 0, 0), u'account_key': u'1270', u'cancel_date': datetime.datetime(2015, 7, 20, 0, 0), u'days_to_cancel': 0}\n",
      "{u'status': u'canceled', u'is_udacity': False, u'is_canceled': True, u'join_date': datetime.datetime(2015, 6, 3, 0, 0), u'account_key': u'1291', u'cancel_date': datetime.datetime(2015, 6, 3, 0, 0), u'days_to_cancel': 0}\n",
      "{u'status': u'canceled', u'is_udacity': False, u'is_canceled': True, u'join_date': datetime.datetime(2015, 6, 9, 0, 0), u'account_key': u'1241', u'cancel_date': datetime.datetime(2015, 6, 9, 0, 0), u'days_to_cancel': 0}\n"
     ]
    }
   ],
   "source": [
    "#####################################\n",
    "#                 4                 #\n",
    "#####################################\n",
    "\n",
    "## 找到任意一个 enrollments 中的学生，但不在 daily engagement 表中。\n",
    "## 打印出这条 enrollments 记录。\n",
    "\n",
    "unique_engagement_students = unique_studetns(daily_engagement)\n",
    "unique_enrollments = unique_studetns(enrollments)\n",
    "for value in enrollments:\n",
    "    if value['account_key'] not in unique_engagement_students:\n",
    "        print value"
   ]
  },
  {
   "cell_type": "markdown",
   "metadata": {},
   "source": [
    "## 检查更多的问题记录"
   ]
  },
  {
   "cell_type": "code",
   "execution_count": 9,
   "metadata": {},
   "outputs": [
    {
     "name": "stdout",
     "output_type": "stream",
     "text": [
      "{u'status': u'canceled', u'is_udacity': True, u'is_canceled': True, u'join_date': datetime.datetime(2015, 1, 10, 0, 0), u'account_key': u'1304', u'cancel_date': datetime.datetime(2015, 3, 10, 0, 0), u'days_to_cancel': 59}\n",
      "{u'status': u'canceled', u'is_udacity': True, u'is_canceled': True, u'join_date': datetime.datetime(2015, 3, 10, 0, 0), u'account_key': u'1304', u'cancel_date': datetime.datetime(2015, 6, 17, 0, 0), u'days_to_cancel': 99}\n",
      "{u'status': u'current', u'is_udacity': True, u'is_canceled': False, u'join_date': datetime.datetime(2015, 2, 25, 0, 0), u'account_key': u'1101', u'cancel_date': None, u'days_to_cancel': None}\n",
      "3\n"
     ]
    }
   ],
   "source": [
    "#####################################\n",
    "#                 5                 #\n",
    "#####################################\n",
    "\n",
    "## 计算无众不同的数据点条数（在 enrollments 中存在，但在 engagement 表中缺失）\n",
    "unique_engagement_students = unique_studetns(daily_engagement)\n",
    "unique_enrollments = unique_studetns(enrollments)\n",
    "num_problem_students = 0\n",
    "for value in enrollments:\n",
    "    if value['account_key'] not in unique_engagement_students and value['join_date'] != value['cancel_date'] :\n",
    "        num_problem_students += 1\n",
    "        print value\n",
    "print num_problem_students\n"
   ]
  },
  {
   "cell_type": "markdown",
   "metadata": {},
   "source": [
    "## 追踪剩余的问题"
   ]
  },
  {
   "cell_type": "code",
   "execution_count": 10,
   "metadata": {},
   "outputs": [
    {
     "data": {
      "text/plain": [
       "6"
      ]
     },
     "execution_count": 10,
     "metadata": {},
     "output_type": "execute_result"
    }
   ],
   "source": [
    "# 为所有 Udacity 测试帐号建立一组 set \n",
    "udacity_test_accounts = set()\n",
    "for enrollment in enrollments:\n",
    "    if enrollment['is_udacity']:\n",
    "        udacity_test_accounts.add(enrollment['account_key'])\n",
    "len(udacity_test_accounts)"
   ]
  },
  {
   "cell_type": "code",
   "execution_count": 11,
   "metadata": {
    "collapsed": true
   },
   "outputs": [],
   "source": [
    "# 通过 account_key 删除所有 Udacity 的测试帐号\n",
    "def remove_udacity_accounts(data):\n",
    "    non_udacity_data = []\n",
    "    for data_point in data:\n",
    "        if data_point['account_key'] not in udacity_test_accounts:\n",
    "            non_udacity_data.append(data_point)\n",
    "    return non_udacity_data"
   ]
  },
  {
   "cell_type": "code",
   "execution_count": 12,
   "metadata": {},
   "outputs": [
    {
     "name": "stdout",
     "output_type": "stream",
     "text": [
      "1622\n",
      "135656\n",
      "3634\n"
     ]
    }
   ],
   "source": [
    "# 从3张表中移除所有 Udacity 的测试帐号\n",
    "non_udacity_enrollments = remove_udacity_accounts(enrollments)\n",
    "non_udacity_engagement = remove_udacity_accounts(daily_engagement)\n",
    "non_udacity_submissions = remove_udacity_accounts(project_submissions)\n",
    "\n",
    "print len(non_udacity_enrollments)\n",
    "print len(non_udacity_engagement)\n",
    "print len(non_udacity_submissions)"
   ]
  },
  {
   "cell_type": "markdown",
   "metadata": {},
   "source": [
    "## 重新定义问题"
   ]
  },
  {
   "cell_type": "code",
   "execution_count": 13,
   "metadata": {},
   "outputs": [
    {
     "name": "stdout",
     "output_type": "stream",
     "text": [
      "995\n"
     ]
    }
   ],
   "source": [
    "#####################################\n",
    "#                 6                 #\n",
    "#####################################\n",
    "\n",
    "## 创建一个叫 paid_students 的字典，并在字典中存储所有还没有取消或者注册时间超过7天的学生。\n",
    "## 字典的键为帐号（account key），值为学生注册的时间。\n",
    "\n",
    "paid_students = {}\n",
    "for student in non_udacity_enrollments:\n",
    "    if (not student['is_canceled'] or student['days_to_cancel'] > 7):\n",
    "        if (student['account_key'] not in paid_students or student['join_date'] > paid_students[student['account_key']]):\n",
    "            paid_students[student['account_key']] = student['join_date']\n",
    "print len(paid_students)"
   ]
  },
  {
   "cell_type": "markdown",
   "metadata": {},
   "source": [
    "## 获取第1周的数据\n",
    "获取第1周的数据"
   ]
  },
  {
   "cell_type": "code",
   "execution_count": 14,
   "metadata": {
    "collapsed": true
   },
   "outputs": [],
   "source": [
    "# 基于学生的加入日期和特定一天的互动记录，若该互动记录发生在学生加入1周内，则反回 True\n",
    "\n",
    "def within_one_week(join_date, engagement_date):\n",
    "    time_delta = engagement_date - join_date\n",
    "    return time_delta.days >= 0 and time_delta.days < 7"
   ]
  },
  {
   "cell_type": "code",
   "execution_count": 15,
   "metadata": {},
   "outputs": [
    {
     "name": "stdout",
     "output_type": "stream",
     "text": [
      "1293\n",
      "134549\n",
      "3618\n",
      "6919\n",
      "1293\n",
      "134549\n",
      "3618\n",
      "6919\n"
     ]
    }
   ],
   "source": [
    "#####################################\n",
    "#                 7                 #\n",
    "#####################################\n",
    "\n",
    "## 创建一个 engagement 记录的列表，该列表只包括付费学生以及加入的前7天的学生的记录\n",
    "## 输入符合要求的行数\n",
    "\n",
    "# 一个付费账号对应多个账号，删除免费账号信息\n",
    "def remove_free_cancels(data):\n",
    "    result = []\n",
    "    for info in data:\n",
    "        account_key = info['account_key']\n",
    "        if account_key in paid_students:\n",
    "            result.append(info)\n",
    "    return result\n",
    "\n",
    "def remove_free_trial_cancels(data):\n",
    "    new_data = []\n",
    "    for data_point in data:\n",
    "        if data_point['account_key'] in paid_students:\n",
    "            new_data.append(data_point)\n",
    "    return new_data\n",
    "\n",
    "paid_enrollments = remove_free_trial_cancels(non_udacity_enrollments)\n",
    "paid_engagement = remove_free_trial_cancels(non_udacity_engagement)\n",
    "paid_submissions = remove_free_trial_cancels(non_udacity_submissions)\n",
    "\n",
    "print len(paid_enrollments)\n",
    "print len(paid_engagement)\n",
    "print len(paid_submissions)\n",
    "\n",
    "paid_engagement_in_first_week = []\n",
    "for engagement_record in paid_engagement:\n",
    "    account_key = engagement_record['account_key']\n",
    "    join_date = paid_students[account_key]\n",
    "    engagement_record_date = engagement_record['utc_date']\n",
    "\n",
    "    if within_one_week(join_date, engagement_record_date):\n",
    "        paid_engagement_in_first_week.append(engagement_record)\n",
    "\n",
    "print len(paid_engagement_in_first_week)\n",
    "\n",
    "paid_enrollments = remove_free_cancels(non_udacity_enrollments)\n",
    "paid_engagement = remove_free_cancels(non_udacity_engagement)\n",
    "paid_submissions = remove_free_cancels(non_udacity_submissions)\n",
    "\n",
    "print len(paid_enrollments)\n",
    "print len(paid_engagement)\n",
    "print len(paid_submissions)\n",
    "\n",
    "paid_engagement_in_first_week = []\n",
    "for engagement in paid_engagement:\n",
    "    account_key = engagement['account_key']\n",
    "    join_date = paid_students[account_key]\n",
    "    engagement_date = engagement['utc_date']\n",
    "    if within_one_week(join_date, engagement_date=engagement_date):\n",
    "        paid_engagement_in_first_week.append(engagement)\n",
    "\n",
    "print len(paid_engagement_in_first_week)"
   ]
  },
  {
   "cell_type": "markdown",
   "metadata": {},
   "source": [
    "## Exploring Student Engagement"
   ]
  },
  {
   "cell_type": "code",
   "execution_count": 65,
   "metadata": {
    "collapsed": true
   },
   "outputs": [],
   "source": [
    "from collections import defaultdict\n",
    "\n",
    "# 创建基于 student 对 engagement 进行分组的字典，字典的键为帐号（account key），值为包含互动记录的列表\n",
    "def group_data(data, key_name):\n",
    "    grouped_data = defaultdict(list)\n",
    "    for item in data:\n",
    "        key = item[key_name]\n",
    "        grouped_data[key].append(item)\n",
    "    return grouped_data\n",
    "        \n",
    "engagement_by_account = group_data(paid_engagement_in_first_week, 'account_key')"
   ]
  },
  {
   "cell_type": "code",
   "execution_count": 66,
   "metadata": {},
   "outputs": [],
   "source": [
    "# 创建一个包含学生在第1周在教室所花总时间和字典。键为帐号（account key），值为数字（所花总时间）\n",
    "total_minutes_by_account = {}\n",
    "for account_key, engagement_for_student in engagement_by_account.items():\n",
    "    total_minutes = 0\n",
    "    for engagement_record in engagement_for_student:\n",
    "        total_minutes += engagement_record['total_minutes_visited']\n",
    "    total_minutes_by_account[account_key] = total_minutes"
   ]
  },
  {
   "cell_type": "code",
   "execution_count": 67,
   "metadata": {},
   "outputs": [
    {
     "name": "stdout",
     "output_type": "stream",
     "text": [
      "Mean: 306.708326753\n",
      "Standard deviation: 412.996933409\n",
      "Minimum: 0.0\n",
      "Maximum: 3564.7332645\n"
     ]
    }
   ],
   "source": [
    "import numpy as np\n",
    "\n",
    "# 汇总和描述关于教室所花时间的数据\n",
    "total_minutes = total_minutes_by_account.values()\n",
    "print 'Mean:', np.mean(total_minutes)\n",
    "print 'Standard deviation:', np.std(total_minutes)\n",
    "print 'Minimum:', np.min(total_minutes)\n",
    "print 'Maximum:', np.max(total_minutes)"
   ]
  },
  {
   "cell_type": "markdown",
   "metadata": {},
   "source": [
    "## 纠错现有的数据分析代码"
   ]
  },
  {
   "cell_type": "code",
   "execution_count": 68,
   "metadata": {
    "collapsed": true
   },
   "outputs": [],
   "source": [
    "#####################################\n",
    "#                 8                 #\n",
    "#####################################\n",
    "\n",
    "## 通过之前的方法检查是否有问题数据存在。\n",
    "## 定位至少一条异常数据，打印出来并检查。"
   ]
  },
  {
   "cell_type": "markdown",
   "metadata": {},
   "source": [
    "## 第1周完成的课程数（Lessons）"
   ]
  },
  {
   "cell_type": "code",
   "execution_count": 74,
   "metadata": {},
   "outputs": [
    {
     "name": "stdout",
     "output_type": "stream",
     "text": [
      " 平均值： 1.63618090452\n",
      "方差： 3.00256129983\n",
      "最小值： 0.0\n",
      "最大值： 36.0\n"
     ]
    }
   ],
   "source": [
    "#####################################\n",
    "#                 9                 #\n",
    "#####################################\n",
    "## 修改之前的代码，找出第1周学生完成课程数的 平均值、标准差、最小值、最大值。尝试创建一个或更多的函数来复用之前的代码   \n",
    "def sum_grouped_items(grouped_data, filed_name):\n",
    "    sum_data = {}\n",
    "    for key, points_data in grouped_data.items():\n",
    "        num = 0.0\n",
    "        for item in points_data:\n",
    "            num += item[filed_name]\n",
    "        sum_data[key] = num\n",
    "    return sum_data\n",
    "\n",
    "def describe_data(data):\n",
    "    print \"平均值：\", np.mean(data)\n",
    "    print \"方差：\", np.std(data)\n",
    "    print \"最小值：\", np.min(data)\n",
    "    print \"最大值：\", np.max(data)\n",
    "    \n",
    "total_lessons_completed_acount = sum_grouped_items(engagement_by_account, 'lessons_completed')\n",
    "total_lessons_completed_list = total_lessons_completed_acount.values()\n",
    "describe_data(total_lessons_completed_list)\n"
   ]
  },
  {
   "cell_type": "markdown",
   "metadata": {},
   "source": [
    "## 第1周的访问次数"
   ]
  },
  {
   "cell_type": "code",
   "execution_count": 75,
   "metadata": {},
   "outputs": [
    {
     "name": "stdout",
     "output_type": "stream",
     "text": [
      "平均值： 2.86733668342\n",
      "方差： 2.25519800292\n",
      "最小值： 0.0\n",
      "最大值： 7.0\n"
     ]
    }
   ],
   "source": [
    "######################################\n",
    "#                 10                 #\n",
    "######################################\n",
    "\n",
    "## 找出第1周学生访问教室天数的平均值、标准差、最小值、最大值。\n",
    "def change_grouped_items(grouped_data, filed_name, change_filed_name):\n",
    "    for key, points_data in grouped_data.items():\n",
    "        for item in points_data:\n",
    "            if item[filed_name] > 0:\n",
    "                item[change_filed_name] = 1\n",
    "            else:\n",
    "                item[change_filed_name] = 0\n",
    "                \n",
    "change_grouped_items(engagement_by_account, 'num_courses_visited', 'has_visited')\n",
    "days_account = sum_grouped_items(engagement_by_account, 'has_visited')\n",
    "totals_days_account = days_account.values()\n",
    "describe_data(totals_days_account)"
   ]
  },
  {
   "cell_type": "markdown",
   "metadata": {},
   "source": [
    "## 区分项目通过的学生"
   ]
  },
  {
   "cell_type": "code",
   "execution_count": 76,
   "metadata": {},
   "outputs": [
    {
     "ename": "KeyError",
     "evalue": "u'434'",
     "output_type": "error",
     "traceback": [
      "\u001b[0;31m---------------------------------------------------------------------------\u001b[0m",
      "\u001b[0;31mKeyError\u001b[0m                                  Traceback (most recent call last)",
      "\u001b[0;32m<ipython-input-76-f8cf08168aed>\u001b[0m in \u001b[0;36m<module>\u001b[0;34m()\u001b[0m\n\u001b[1;32m     16\u001b[0m         \u001b[0;32mif\u001b[0m \u001b[0mlesson_key\u001b[0m \u001b[0;32min\u001b[0m \u001b[0msubway_project_lesson_keys\u001b[0m \u001b[0;32mand\u001b[0m \u001b[0;34m(\u001b[0m\u001b[0massigned_rating\u001b[0m \u001b[0;34m==\u001b[0m \u001b[0;34m'PASSED'\u001b[0m \u001b[0;32mor\u001b[0m \u001b[0massigned_rating\u001b[0m \u001b[0;34m==\u001b[0m \u001b[0;34m'DISTINCTION'\u001b[0m\u001b[0;34m)\u001b[0m\u001b[0;34m:\u001b[0m\u001b[0;34m\u001b[0m\u001b[0m\n\u001b[1;32m     17\u001b[0m             \u001b[0mpassing_engagement\u001b[0m\u001b[0;34m.\u001b[0m\u001b[0madd\u001b[0m\u001b[0;34m(\u001b[0m\u001b[0maccount_key\u001b[0m\u001b[0;34m)\u001b[0m\u001b[0;34m\u001b[0m\u001b[0m\n\u001b[0;32m---> 18\u001b[0;31m             \u001b[0mnon_passing_engagement\u001b[0m\u001b[0;34m.\u001b[0m\u001b[0mremove\u001b[0m\u001b[0;34m(\u001b[0m\u001b[0maccount_key\u001b[0m\u001b[0;34m)\u001b[0m\u001b[0;34m\u001b[0m\u001b[0m\n\u001b[0m\u001b[1;32m     19\u001b[0m         \u001b[0;32melse\u001b[0m\u001b[0;34m:\u001b[0m\u001b[0;34m\u001b[0m\u001b[0m\n\u001b[1;32m     20\u001b[0m             \u001b[0mnon_passing_engagement\u001b[0m\u001b[0;34m.\u001b[0m\u001b[0madd\u001b[0m\u001b[0;34m(\u001b[0m\u001b[0maccount_key\u001b[0m\u001b[0;34m)\u001b[0m\u001b[0;34m\u001b[0m\u001b[0m\n",
      "\u001b[0;31mKeyError\u001b[0m: u'434'"
     ]
    }
   ],
   "source": [
    "######################################\n",
    "#                 11                 #\n",
    "######################################\n",
    "\n",
    "## 创建两个付费学生第1周的互动数据列表（engagement）。第1个包含通过项目的学生，第2个包含没通过项目的学生。\n",
    "\n",
    "subway_project_lesson_keys = ['746169184', '3176718735']\n",
    "\n",
    "passing_engagement = {}\n",
    "non_passing_engagement = {}\n",
    "for submission in non_udacity_submissions:\n",
    "    account_key = submission['account_key']\n",
    "    if account_key in paid_students:\n",
    "        lesson_key = submission['lesson_key']\n",
    "        assigned_rating = submission['assigned_rating']\n",
    "        if lesson_key in subway_project_lesson_keys and (assigned_rating == 'PASSED' or assigned_rating == 'DISTINCTION'):\n",
    "            passing_engagement[account_key] = 1\n",
    "            non_passing_engagement.pop(account_key)\n",
    "        else:\n",
    "            non_passing_engagement[account_key] = 1\n",
    "\n",
    "print len(passing_engagement)\n",
    "print len(non_passing_engagement)\n"
   ]
  },
  {
   "cell_type": "markdown",
   "metadata": {},
   "source": [
    "## 对比两组学生数据"
   ]
  },
  {
   "cell_type": "code",
   "execution_count": null,
   "metadata": {
    "collapsed": true
   },
   "outputs": [],
   "source": [
    "######################################\n",
    "#                 12                 #\n",
    "######################################\n",
    "\n",
    "## 计算你所感兴趣的数据指标，并分析通过项目和没有通过项目的两组学生有何异同。\n",
    "## 你可以从我们之前使用过的数据指标开始（教室的访问时间、课程完成数、访问天数）。\n"
   ]
  },
  {
   "cell_type": "markdown",
   "metadata": {},
   "source": [
    "## 制作直方图"
   ]
  },
  {
   "cell_type": "code",
   "execution_count": null,
   "metadata": {
    "collapsed": true
   },
   "outputs": [],
   "source": [
    "######################################\n",
    "#                 13                 #\n",
    "######################################\n",
    "\n",
    "## 针对通过项目和没有通过项目的两组学生，为我们之前研究的三个数据指标制作直方图。\n",
    "## 你也可以为其它你所检验的数据指标来制作直方图。"
   ]
  },
  {
   "cell_type": "markdown",
   "metadata": {},
   "source": [
    "## 改进图表及分享发现"
   ]
  },
  {
   "cell_type": "code",
   "execution_count": null,
   "metadata": {
    "collapsed": true
   },
   "outputs": [],
   "source": [
    "######################################\n",
    "#                 14                 #\n",
    "######################################\n",
    "\n",
    "## 至少改进一幅之前的可视化图表，尝试导入 seaborn 库使你的图表看起来更美观。\n",
    "## 加入轴标签及表头，并修改一个或多个 hist() 内的变量。"
   ]
  }
 ],
 "metadata": {
  "anaconda-cloud": {},
  "kernelspec": {
   "display_name": "Python 2",
   "language": "python",
   "name": "python2"
  },
  "language_info": {
   "codemirror_mode": {
    "name": "ipython",
    "version": 2
   },
   "file_extension": ".py",
   "mimetype": "text/x-python",
   "name": "python",
   "nbconvert_exporter": "python",
   "pygments_lexer": "ipython2",
   "version": "2.7.13"
  }
 },
 "nbformat": 4,
 "nbformat_minor": 1
}

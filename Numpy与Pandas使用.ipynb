{
 "cells": [
  {
   "cell_type": "markdown",
   "metadata": {},
   "source": [
    "## 它们是什么？\n",
    "> NumPy是Python语言的一个扩充程序库。支持高级大量的维度数组与矩阵运算，此外也针对数组运算提供大量的数学函数库。\n",
    "\n",
    ">Pandas是基于NumPy 的一种工具，该工具是为了解决数据分析任务而创建的。Pandas 纳入了大量库和一些标准的数据模型，提供了高效地操作大型数据集所需的工具。Pandas提供了大量能使我们快速便捷地处理数据的函数和方法。\n",
    "\n",
    "## List、Numpy与Pandas\n",
    "#### Numpy与List\n",
    "相同之处：\n",
    "* 都可以用下标访问元素，例如a[0]\n",
    "* 都可以切片访问，例如a[1:3]\n",
    "* 都可以使用for循环进行遍历\n",
    "\n",
    "不同之处：\n",
    "* Numpy之中每个元素类型必须相同；而List中可以混合多个类型元素\n",
    "* Numpy使用更方便，封装了许多函数，例如mean、std、sum、min、max等\n",
    "* Numpy可以是多维数组\n",
    "* Numpy用C实现，操作起来速度更快\n",
    "\n",
    "#### Pandas与Numpy\n",
    "相同之处：\n",
    "* 访问元素一样，可以使用下标，也可以使用切片访问\n",
    "* 可以使用For循环遍历\n",
    "* 有很多方便的函数，例如mean、std、sum、min、max等\n",
    "* 可以进行向量运算\n",
    "* 用C实现，速度更快\n",
    "\n",
    "不同之处：Pandas拥有Numpy一些没有的方法，例如describe函数。其主要区别是：Numpy就像增强版的List，而Pandas就像列表和字典的合集，Pandas有索引。"
   ]
  },
  {
   "cell_type": "markdown",
   "metadata": {},
   "source": [
    "## Numpy使用"
   ]
  },
  {
   "cell_type": "markdown",
   "metadata": {},
   "source": [
    "#### 1、基本操作"
   ]
  },
  {
   "cell_type": "code",
   "execution_count": 4,
   "metadata": {},
   "outputs": [
    {
     "name": "stdout",
     "output_type": "stream",
     "text": [
      "[1 2 3]\n",
      "int64\n"
     ]
    }
   ],
   "source": [
    "import numpy as np\n",
    "\n",
    "#创建Numpy\n",
    "p1 = np.array([1, 2, 3])\n",
    "print p1\n",
    "print p1.dtype"
   ]
  },
  {
   "cell_type": "code",
   "execution_count": 5,
   "metadata": {},
   "outputs": [
    {
     "name": "stdout",
     "output_type": "stream",
     "text": [
      "2.0\n"
     ]
    }
   ],
   "source": [
    "#求平均值\n",
    "print p1.mean()"
   ]
  },
  {
   "cell_type": "code",
   "execution_count": 6,
   "metadata": {},
   "outputs": [
    {
     "name": "stdout",
     "output_type": "stream",
     "text": [
      "0.816496580928\n"
     ]
    }
   ],
   "source": [
    "#求标准差\n",
    "print p1.std()"
   ]
  },
  {
   "cell_type": "code",
   "execution_count": 7,
   "metadata": {},
   "outputs": [
    {
     "name": "stdout",
     "output_type": "stream",
     "text": [
      "6\n",
      "3\n",
      "1\n"
     ]
    }
   ],
   "source": [
    "#求和、求最大值、求最小值\n",
    "print p1.sum()\n",
    "print p1.max()\n",
    "print p1.min()"
   ]
  },
  {
   "cell_type": "code",
   "execution_count": 11,
   "metadata": {},
   "outputs": [
    {
     "name": "stdout",
     "output_type": "stream",
     "text": [
      "2\n"
     ]
    }
   ],
   "source": [
    "#求最大值所在位置\n",
    "print p1.argmax()"
   ]
  },
  {
   "cell_type": "markdown",
   "metadata": {},
   "source": [
    "#### 2、向量运算"
   ]
  },
  {
   "cell_type": "code",
   "execution_count": 18,
   "metadata": {
    "collapsed": true
   },
   "outputs": [],
   "source": [
    "p1 = np.array([1, 2, 3])\n",
    "p2 = np.array([2, 5, 7])"
   ]
  },
  {
   "cell_type": "code",
   "execution_count": 19,
   "metadata": {},
   "outputs": [
    {
     "name": "stdout",
     "output_type": "stream",
     "text": [
      "[ 3  7 10]\n"
     ]
    }
   ],
   "source": [
    "#向量相加，各个元素相加\n",
    "print p1 + p2"
   ]
  },
  {
   "cell_type": "code",
   "execution_count": 20,
   "metadata": {},
   "outputs": [
    {
     "name": "stdout",
     "output_type": "stream",
     "text": [
      "[2 4 6]\n"
     ]
    }
   ],
   "source": [
    "#向量乘以1个常数\n",
    "print p1 * 2"
   ]
  },
  {
   "cell_type": "code",
   "execution_count": 21,
   "metadata": {},
   "outputs": [
    {
     "name": "stdout",
     "output_type": "stream",
     "text": [
      "[-1 -3 -4]\n"
     ]
    }
   ],
   "source": [
    "#向量相减\n",
    "print p1 - p2"
   ]
  },
  {
   "cell_type": "code",
   "execution_count": 22,
   "metadata": {},
   "outputs": [
    {
     "name": "stdout",
     "output_type": "stream",
     "text": [
      "[ 2 10 21]\n"
     ]
    }
   ],
   "source": [
    "#向量相乘，各个元素之间做运算\n",
    "print p1 * p2"
   ]
  },
  {
   "cell_type": "code",
   "execution_count": 23,
   "metadata": {},
   "outputs": [
    {
     "name": "stdout",
     "output_type": "stream",
     "text": [
      "[False False  True]\n"
     ]
    }
   ],
   "source": [
    "#向量与一个常数比较\n",
    "print p1 > 2"
   ]
  },
  {
   "cell_type": "markdown",
   "metadata": {},
   "source": [
    "#### 3、索引数组\n",
    "首先，看下面一幅图，理解下\n",
    "![](http://ww1.sinaimg.cn/large/7746cd07ly1fjew15myc4j20ra0d9tcy.jpg)\n",
    "然后，咱们用代码实现看下"
   ]
  },
  {
   "cell_type": "code",
   "execution_count": 24,
   "metadata": {},
   "outputs": [
    {
     "name": "stdout",
     "output_type": "stream",
     "text": [
      "[1 2 3 4 5]\n"
     ]
    }
   ],
   "source": [
    "a = np.array([1, 2, 3, 4, 5])\n",
    "print a"
   ]
  },
  {
   "cell_type": "code",
   "execution_count": 26,
   "metadata": {},
   "outputs": [
    {
     "name": "stdout",
     "output_type": "stream",
     "text": [
      "[False False  True  True  True]\n"
     ]
    }
   ],
   "source": [
    "b = a > 2\n",
    "print b"
   ]
  },
  {
   "cell_type": "code",
   "execution_count": 27,
   "metadata": {},
   "outputs": [
    {
     "name": "stdout",
     "output_type": "stream",
     "text": [
      "[3 4 5]\n"
     ]
    }
   ],
   "source": [
    "print a[b]"
   ]
  },
  {
   "cell_type": "markdown",
   "metadata": {},
   "source": [
    "a[b]中，只会保留a中所对应的b位置为True的元素"
   ]
  },
  {
   "cell_type": "markdown",
   "metadata": {},
   "source": [
    "#### 4、原地与非原地\n",
    "咱们先来看一组运算："
   ]
  },
  {
   "cell_type": "code",
   "execution_count": 28,
   "metadata": {},
   "outputs": [
    {
     "name": "stdout",
     "output_type": "stream",
     "text": [
      "[2 3 4 5]\n"
     ]
    }
   ],
   "source": [
    "a = np.array([1, 2, 3, 4])\n",
    "b = a\n",
    "a += np.array([1, 1, 1, 1])\n",
    "print b"
   ]
  },
  {
   "cell_type": "code",
   "execution_count": 29,
   "metadata": {},
   "outputs": [
    {
     "name": "stdout",
     "output_type": "stream",
     "text": [
      "[1 2 3 4]\n"
     ]
    }
   ],
   "source": [
    "a = np.array([1, 2, 3, 4])\n",
    "b = a\n",
    "a = a + np.array([1, 1, 1, 1])\n",
    "print b"
   ]
  },
  {
   "cell_type": "markdown",
   "metadata": {},
   "source": [
    "从上面结果可以看出来，+=改变了原来数组，而+没有。这是因为：\n",
    "\n",
    "* +=：它是原地计算，不会创建一个新的数组，在原始数组中更改元素\n",
    "* +：它是非原地计算，会创建一个新的数组，不会修改原始数组中的元素"
   ]
  },
  {
   "cell_type": "markdown",
   "metadata": {},
   "source": [
    "#### 5、Numpy中的切片与List的切片"
   ]
  },
  {
   "cell_type": "code",
   "execution_count": 30,
   "metadata": {},
   "outputs": [
    {
     "name": "stdout",
     "output_type": "stream",
     "text": [
      "[5, 2]\n",
      "[1, 2, 3, 5]\n"
     ]
    }
   ],
   "source": [
    "l1 = [1, 2, 3, 5]\n",
    "l2 = l1[0:2]\n",
    "l2[0] = 5\n",
    "print l2\n",
    "print l1"
   ]
  },
  {
   "cell_type": "code",
   "execution_count": 33,
   "metadata": {},
   "outputs": [
    {
     "name": "stdout",
     "output_type": "stream",
     "text": [
      "[5 2 3 5]\n",
      "[5 2]\n"
     ]
    }
   ],
   "source": [
    "p1 = np.array([1, 2, 3, 5])\n",
    "p2 = p1[0:2]\n",
    "p2[0] = 5\n",
    "print p1\n",
    "print p2"
   ]
  },
  {
   "cell_type": "markdown",
   "metadata": {},
   "source": [
    "从上可知，List中改变切片中的元素，不会影响原来的数组；而Numpy改变切片中的元素，原来的数组也跟着变了。这是因为：Numpy的切片编程不会创建一个新数组出来，当修改对应的切片也会更改原始的数组数据。这样的机制，可以让Numpy比原生数组操作更快，但编程时需要注意。"
   ]
  },
  {
   "cell_type": "markdown",
   "metadata": {},
   "source": [
    "#### 6、二维数组的操作"
   ]
  },
  {
   "cell_type": "code",
   "execution_count": 37,
   "metadata": {},
   "outputs": [
    {
     "name": "stdout",
     "output_type": "stream",
     "text": [
      "[1 2 3]\n"
     ]
    }
   ],
   "source": [
    "p1 = np.array([[1, 2, 3], [7, 8, 9], [2, 4, 5]])\n",
    "#获取其中一维数组\n",
    "print p1[0]"
   ]
  },
  {
   "cell_type": "code",
   "execution_count": 41,
   "metadata": {},
   "outputs": [
    {
     "name": "stdout",
     "output_type": "stream",
     "text": [
      "2\n",
      "2\n"
     ]
    }
   ],
   "source": [
    "#获取其中一个元素，注意它可以是p1[0, 1]，也可以p1[0][1]\n",
    "print p1[0, 1]\n",
    "print p1[0][1]"
   ]
  },
  {
   "cell_type": "code",
   "execution_count": 45,
   "metadata": {},
   "outputs": [
    {
     "name": "stdout",
     "output_type": "stream",
     "text": [
      "41\n",
      "[10 14 17]\n"
     ]
    }
   ],
   "source": [
    "#求和是求所有元素的和\n",
    "print p1.sum()"
   ]
  },
  {
   "cell_type": "markdown",
   "metadata": {},
   "source": [
    "但，当设置axis参数时，当设置为0时，是计算每一列的结果，然后返回一个一维数组；若是设置为1时，则是计算每一行的结果，然后返回一维数组。对于二维数组，Numpy中很多函数都可以设置axis参数。"
   ]
  },
  {
   "cell_type": "code",
   "execution_count": 46,
   "metadata": {},
   "outputs": [
    {
     "name": "stdout",
     "output_type": "stream",
     "text": [
      "[10 14 17]\n"
     ]
    }
   ],
   "source": [
    "#获取每一列的结果\n",
    "print p1.sum(axis=0)"
   ]
  },
  {
   "cell_type": "code",
   "execution_count": 47,
   "metadata": {},
   "outputs": [
    {
     "name": "stdout",
     "output_type": "stream",
     "text": [
      "[ 6 24 11]\n"
     ]
    }
   ],
   "source": [
    "#获取每一行的结果\n",
    "print p1.sum(axis=1)"
   ]
  },
  {
   "cell_type": "code",
   "execution_count": 48,
   "metadata": {},
   "outputs": [
    {
     "name": "stdout",
     "output_type": "stream",
     "text": [
      "[ 3.33333333  4.66666667  5.66666667]\n"
     ]
    }
   ],
   "source": [
    "#mean函数也可以设置axis\n",
    "print p1.mean(axis=0)"
   ]
  },
  {
   "cell_type": "markdown",
   "metadata": {},
   "source": [
    "## Pandas使用\n",
    "Pandas的Series拥有Numpy的所有功能，而且Pandas还拥有DataFrame，它拥有更强大的功能，咱们主要梳理下Numpy没有的功能："
   ]
  },
  {
   "cell_type": "markdown",
   "metadata": {},
   "source": [
    "#### 1、简单基本使用"
   ]
  },
  {
   "cell_type": "code",
   "execution_count": 54,
   "metadata": {},
   "outputs": [
    {
     "name": "stdout",
     "output_type": "stream",
     "text": [
      "0    1\n",
      "1    2\n",
      "2    3\n",
      "dtype: int64\n"
     ]
    }
   ],
   "source": [
    "import pandas as pd\n",
    "\n",
    "pd1 = pd.Series([1, 2, 3])\n",
    "print pd1"
   ]
  },
  {
   "cell_type": "code",
   "execution_count": 55,
   "metadata": {},
   "outputs": [
    {
     "name": "stdout",
     "output_type": "stream",
     "text": [
      "6\n",
      "1.0\n"
     ]
    }
   ],
   "source": [
    "#也可以求和和标准偏差\n",
    "print pd1.sum()\n",
    "print pd1.std()"
   ]
  },
  {
   "cell_type": "markdown",
   "metadata": {},
   "source": [
    "#### 2、索引数组"
   ]
  },
  {
   "cell_type": "markdown",
   "metadata": {},
   "source": [
    "（1）简单的Seris索引数组"
   ]
  },
  {
   "cell_type": "code",
   "execution_count": 66,
   "metadata": {},
   "outputs": [
    {
     "name": "stdout",
     "output_type": "stream",
     "text": [
      "a    1\n",
      "b    2\n",
      "c    3\n",
      "dtype: int64\n"
     ]
    }
   ],
   "source": [
    "p1 = pd.Series(\n",
    "    [1, 2, 3],\n",
    "    index = ['a', 'b', 'c']\n",
    ")\n",
    "print p1"
   ]
  },
  {
   "cell_type": "code",
   "execution_count": 67,
   "metadata": {},
   "outputs": [
    {
     "name": "stdout",
     "output_type": "stream",
     "text": [
      "1\n"
     ]
    }
   ],
   "source": [
    "print p1['a']"
   ]
  },
  {
   "cell_type": "markdown",
   "metadata": {},
   "source": [
    "（2）DataFrame数组"
   ]
  },
  {
   "cell_type": "code",
   "execution_count": 73,
   "metadata": {},
   "outputs": [
    {
     "name": "stdout",
     "output_type": "stream",
     "text": [
      "   age  name\n",
      "0   18  Jack\n",
      "1   19  Lucy\n",
      "2   21  Coke\n"
     ]
    }
   ],
   "source": [
    "p1 = pd.DataFrame({\n",
    "    'name': ['Jack', 'Lucy', 'Coke'],\n",
    "    'age': [18, 19, 21]\n",
    "})\n",
    "print p1"
   ]
  },
  {
   "cell_type": "code",
   "execution_count": 74,
   "metadata": {},
   "outputs": [
    {
     "name": "stdout",
     "output_type": "stream",
     "text": [
      "0    Jack\n",
      "1    Lucy\n",
      "2    Coke\n",
      "Name: name, dtype: object\n"
     ]
    }
   ],
   "source": [
    "#获取name一列\n",
    "print p1['name']"
   ]
  },
  {
   "cell_type": "code",
   "execution_count": 77,
   "metadata": {},
   "outputs": [
    {
     "name": "stdout",
     "output_type": "stream",
     "text": [
      "Jack\n"
     ]
    }
   ],
   "source": [
    "#获取姓名的第一个\n",
    "print p1['name'][0]"
   ]
  },
  {
   "cell_type": "code",
   "execution_count": 80,
   "metadata": {},
   "outputs": [
    {
     "name": "stdout",
     "output_type": "stream",
     "text": [
      "age       18\n",
      "name    Jack\n",
      "Name: 0, dtype: object\n"
     ]
    }
   ],
   "source": [
    "#使用p1[0]不能获取第一行，但是可以使用iloc\n",
    "print p1.iloc[0]"
   ]
  },
  {
   "cell_type": "markdown",
   "metadata": {},
   "source": [
    "总结：\n",
    "* 获取一列使用p1['name']这种索引\n",
    "* 获取一行使用p1.iloc[0]"
   ]
  },
  {
   "cell_type": "markdown",
   "metadata": {},
   "source": [
    "#### 3、apply使用"
   ]
  },
  {
   "cell_type": "markdown",
   "metadata": {},
   "source": [
    "apply可以操作Pandas里面的元素，当库里面没用对应的方法时，可以通过apply来进行封装"
   ]
  },
  {
   "cell_type": "code",
   "execution_count": 82,
   "metadata": {
    "collapsed": true
   },
   "outputs": [],
   "source": [
    "def func(value):\n",
    "    return value * 3\n",
    "pd1 = pd.Series([1, 2, 5])"
   ]
  },
  {
   "cell_type": "code",
   "execution_count": 83,
   "metadata": {},
   "outputs": [
    {
     "name": "stdout",
     "output_type": "stream",
     "text": [
      "0     3\n",
      "1     6\n",
      "2    15\n",
      "dtype: int64\n"
     ]
    }
   ],
   "source": [
    "print pd1.apply(func)"
   ]
  },
  {
   "cell_type": "markdown",
   "metadata": {},
   "source": [
    "同样可以在DataFrame上使用："
   ]
  },
  {
   "cell_type": "code",
   "execution_count": 85,
   "metadata": {},
   "outputs": [
    {
     "name": "stdout",
     "output_type": "stream",
     "text": [
      "   age          name\n",
      "0   54  JackJackJack\n",
      "1   57  LucyLucyLucy\n",
      "2   63  CokeCokeCoke\n"
     ]
    }
   ],
   "source": [
    "pd2 = pd.DataFrame({\n",
    "    'name': ['Jack', 'Lucy', 'Coke'],\n",
    "    'age': [18, 19, 21]\n",
    "})\n",
    "print pd2.apply(func)"
   ]
  },
  {
   "cell_type": "markdown",
   "metadata": {},
   "source": [
    "#### 4、axis参数\n",
    "Pandas设置axis时，与Numpy有点区别：\n",
    "* 当设置axis为'columns'时，是计算每一行的值\n",
    "* 当设置axis为'index'时，是计算每一列的值"
   ]
  },
  {
   "cell_type": "code",
   "execution_count": 86,
   "metadata": {},
   "outputs": [
    {
     "name": "stdout",
     "output_type": "stream",
     "text": [
      "0    138\n",
      "1    149\n",
      "2    171\n",
      "dtype: int64\n"
     ]
    }
   ],
   "source": [
    "pd2 = pd.DataFrame({\n",
    "    'weight': [120, 130, 150],\n",
    "    'age': [18, 19, 21]\n",
    "})"
   ]
  },
  {
   "cell_type": "code",
   "execution_count": 90,
   "metadata": {},
   "outputs": [
    {
     "name": "stdout",
     "output_type": "stream",
     "text": [
      "0    138\n",
      "1    149\n",
      "2    171\n",
      "dtype: int64\n"
     ]
    }
   ],
   "source": [
    "#计算每一行的值\n",
    "print pd2.sum(axis='columns')"
   ]
  },
  {
   "cell_type": "code",
   "execution_count": 97,
   "metadata": {},
   "outputs": [
    {
     "name": "stdout",
     "output_type": "stream",
     "text": [
      "age        58\n",
      "weight    400\n",
      "dtype: int64\n"
     ]
    }
   ],
   "source": [
    "#计算每一列的值\n",
    "print pd2.sum(axis='index')"
   ]
  },
  {
   "cell_type": "markdown",
   "metadata": {},
   "source": [
    "#### 5、分组"
   ]
  },
  {
   "cell_type": "code",
   "execution_count": 108,
   "metadata": {},
   "outputs": [
    {
     "name": "stdout",
     "output_type": "stream",
     "text": [
      "{18: Int64Index([0], dtype='int64'), 19: Int64Index([1, 4], dtype='int64'), 21: Int64Index([2, 3], dtype='int64')}\n"
     ]
    }
   ],
   "source": [
    "pd2 = pd.DataFrame({\n",
    "    'name': ['Jack', 'Lucy', 'Coke', 'Pol', 'Tude'],\n",
    "    'age': [18, 19, 21, 21, 19]\n",
    "})\n",
    "#以年龄分组\n",
    "print pd2.groupby('age').groups"
   ]
  },
  {
   "cell_type": "markdown",
   "metadata": {},
   "source": [
    "#### 6、向量运算\n",
    "需要注意的是，索引数组相加时，对应的索引相加"
   ]
  },
  {
   "cell_type": "code",
   "execution_count": 109,
   "metadata": {
    "collapsed": true
   },
   "outputs": [],
   "source": [
    "pd1 = pd.Series(\n",
    "    [1, 2, 3],\n",
    "    index = ['a', 'b', 'c']\n",
    ")\n",
    "\n",
    "pd2 = pd.Series(\n",
    "    [1, 2, 3],\n",
    "    index = ['a', 'c', 'd']\n",
    ")"
   ]
  },
  {
   "cell_type": "code",
   "execution_count": 110,
   "metadata": {},
   "outputs": [
    {
     "name": "stdout",
     "output_type": "stream",
     "text": [
      "a    2.0\n",
      "b    NaN\n",
      "c    5.0\n",
      "d    NaN\n",
      "dtype: float64\n"
     ]
    }
   ],
   "source": [
    "print pd1 + pd2"
   ]
  },
  {
   "cell_type": "markdown",
   "metadata": {},
   "source": [
    "出现了NAN值，如果我们期望NAN不出现，如何处理？使用add函数"
   ]
  },
  {
   "cell_type": "code",
   "execution_count": 111,
   "metadata": {},
   "outputs": [
    {
     "name": "stdout",
     "output_type": "stream",
     "text": [
      "a    2.0\n",
      "b    2.0\n",
      "c    5.0\n",
      "d    3.0\n",
      "dtype: float64\n"
     ]
    }
   ],
   "source": [
    "print pd1.add(pd2, fill_value=0)"
   ]
  },
  {
   "cell_type": "markdown",
   "metadata": {},
   "source": [
    "同样，它可以应用在Pandas的dataFrame中，只是需要注意列与行都要对应起来。"
   ]
  },
  {
   "cell_type": "markdown",
   "metadata": {},
   "source": [
    "## 总结\n",
    "这一周学习了优达学城上分析基础的课程，使用的是Numpy与Pandas。对于Numpy，以前在Tensorflow中用过，但是很不明白，这次学习之后，才知道那么简单，算是有一定的收获。"
   ]
  }
 ],
 "metadata": {
  "kernelspec": {
   "display_name": "Python 2",
   "language": "python",
   "name": "python2"
  },
  "language_info": {
   "codemirror_mode": {
    "name": "ipython",
    "version": 2
   },
   "file_extension": ".py",
   "mimetype": "text/x-python",
   "name": "python",
   "nbconvert_exporter": "python",
   "pygments_lexer": "ipython2",
   "version": "2.7.13"
  }
 },
 "nbformat": 4,
 "nbformat_minor": 2
}
